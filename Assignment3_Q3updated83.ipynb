{
 "cells": [
  {
   "cell_type": "code",
   "execution_count": 1,
   "metadata": {
    "id": "-0jFsQLpcjde"
   },
   "outputs": [],
   "source": [
    "import tensorflow as tf\n",
    "from tensorflow import keras\n",
    "import numpy as np\n",
    "from matplotlib import pyplot as plt\n",
    "(trainx,trainy),(testx,testy) = keras.datasets.mnist.load_data()"
   ]
  },
  {
   "cell_type": "code",
   "execution_count": 1,
   "metadata": {
    "colab": {
     "base_uri": "https://localhost:8080/"
    },
    "id": "p55ZXuj_cpLd",
    "outputId": "ffd8aeb4-57d9-4525-e872-738b5e644af6"
   },
   "outputs": [
    {
     "name": "stdout",
     "output_type": "stream",
     "text": [
      "Mounted at /content/drive\n"
     ]
    }
   ],
   "source": [
    "from google.colab import drive\n",
    "drive.mount('/content/drive')"
   ]
  },
  {
   "cell_type": "code",
   "execution_count": 2,
   "metadata": {
    "id": "MM41yETkcjdi"
   },
   "outputs": [],
   "source": [
    "trainx=trainx/255.0\n",
    "testx=testx/255.0"
   ]
  },
  {
   "cell_type": "code",
   "execution_count": 3,
   "metadata": {
    "id": "KxsgEuR5cjdj"
   },
   "outputs": [],
   "source": [
    "import pickle\n",
    "traincircley=pickle.load(open('drive/MyDrive/circledatatrain.pkl', 'rb'))\n"
   ]
  },
  {
   "cell_type": "code",
   "execution_count": 4,
   "metadata": {
    "id": "E4FzTpuxcjdk"
   },
   "outputs": [],
   "source": [
    "for i in range(len(traincircley)):\n",
    "    traincircley[i][10]=traincircley[i][10]/28\n",
    "    traincircley[i][11]=traincircley[i][11]/28\n",
    "    traincircley[i][12]=traincircley[i][12]/14"
   ]
  },
  {
   "cell_type": "code",
   "execution_count": 5,
   "metadata": {
    "id": "lQoOumdFcjdl"
   },
   "outputs": [],
   "source": [
    "import pickle\n",
    "testcircley=pickle.load(open('drive/MyDrive/circledatatest.pkl', 'rb'))\n"
   ]
  },
  {
   "cell_type": "code",
   "execution_count": 6,
   "metadata": {
    "id": "b3TWn3bGcjdl"
   },
   "outputs": [],
   "source": [
    "for i in range(len(testcircley)):\n",
    "    testcircley[i][10]=testcircley[i][10]/28\n",
    "    testcircley[i][11]=testcircley[i][11]/28\n",
    "    testcircley[i][12]=testcircley[i][12]/14"
   ]
  },
  {
   "cell_type": "code",
   "execution_count": 7,
   "metadata": {
    "colab": {
     "base_uri": "https://localhost:8080/"
    },
    "id": "oE9wOS-Jcjdm",
    "outputId": "57d9c69d-98d5-4877-a615-d6de5b894009"
   },
   "outputs": [
    {
     "data": {
      "text/plain": [
       "(60000, 28, 28)"
      ]
     },
     "execution_count": 7,
     "metadata": {
      "tags": []
     },
     "output_type": "execute_result"
    }
   ],
   "source": [
    "trainx.shape"
   ]
  },
  {
   "cell_type": "code",
   "execution_count": 361,
   "metadata": {
    "colab": {
     "base_uri": "https://localhost:8080/"
    },
    "id": "--URSiUHcjdn",
    "outputId": "b0182e5c-f8d1-41c9-9836-66935f564b14"
   },
   "outputs": [
    {
     "name": "stdout",
     "output_type": "stream",
     "text": [
      "Model: \"model_13\"\n",
      "_________________________________________________________________\n",
      "Layer (type)                 Output Shape              Param #   \n",
      "=================================================================\n",
      "input_14 (InputLayer)        [(None, 28, 28, 1)]       0         \n",
      "_________________________________________________________________\n",
      "conv2d_58 (Conv2D)           (None, 28, 28, 16)        416       \n",
      "_________________________________________________________________\n",
      "conv2d_59 (Conv2D)           (None, 24, 24, 16)        6416      \n",
      "_________________________________________________________________\n",
      "conv2d_60 (Conv2D)           (None, 24, 24, 16)        6416      \n",
      "_________________________________________________________________\n",
      "max_pooling2d_15 (MaxPooling (None, 12, 12, 16)        0         \n",
      "_________________________________________________________________\n",
      "conv2d_61 (Conv2D)           (None, 8, 8, 32)          12832     \n",
      "_________________________________________________________________\n",
      "conv2d_62 (Conv2D)           (None, 8, 8, 32)          25632     \n",
      "_________________________________________________________________\n",
      "flatten_13 (Flatten)         (None, 2048)              0         \n",
      "_________________________________________________________________\n",
      "dense_98 (Dense)             (None, 1024)              2098176   \n",
      "_________________________________________________________________\n",
      "dense_99 (Dense)             (None, 512)               524800    \n",
      "_________________________________________________________________\n",
      "dense_100 (Dense)            (None, 256)               131328    \n",
      "_________________________________________________________________\n",
      "dense_101 (Dense)            (None, 128)               32896     \n",
      "_________________________________________________________________\n",
      "dense_102 (Dense)            (None, 64)                8256      \n",
      "_________________________________________________________________\n",
      "dense_103 (Dense)            (None, 32)                2080      \n",
      "_________________________________________________________________\n",
      "dense_104 (Dense)            (None, 16)                528       \n",
      "_________________________________________________________________\n",
      "dense_105 (Dense)            (None, 13)                221       \n",
      "=================================================================\n",
      "Total params: 2,849,997\n",
      "Trainable params: 2,849,997\n",
      "Non-trainable params: 0\n",
      "_________________________________________________________________\n"
     ]
    }
   ],
   "source": [
    "import tensorflow.keras.layers as KL\n",
    "import tensorflow.keras.models as KM\n",
    "input=KL.Input(shape=(28,28,1))\n",
    "conv1=KL.Conv2D(16,(5,5),padding=\"same\",activation=\"relu\")(input)\n",
    "conv1=KL.Conv2D(16,(5,5),padding=\"valid\",activation=\"relu\")(conv1)\n",
    "\n",
    "conv1=KL.Conv2D(16,(5,5),padding=\"same\",activation=\"relu\")(conv1)\n",
    "\n",
    "avg1=KL.MaxPooling2D(2)(conv1)\n",
    "conv2=KL.Conv2D(32,(5,5),padding=\"valid\",activation=\"relu\")(avg1)\n",
    "conv2=KL.Conv2D(32,(5,5),padding=\"same\",activation=\"relu\")(conv2)\n",
    "flat=KL.Flatten()(conv2)\n",
    "out1=KL.Dense(1024,activation=\"relu\")(flat)\n",
    "out2=KL.Dense(512,activation=\"relu\")(out1)\n",
    "out3=KL.Dense(256,activation=\"relu\")(out2)\n",
    "out4=KL.Dense(128,activation=\"relu\")(out3)\n",
    "out5=KL.Dense(64,activation=\"relu\")(out4)\n",
    "out6=KL.Dense(32,activation=\"relu\")(out5)\n",
    "out7=KL.Dense(16,activation=\"relu\")(out6)\n",
    "output=KL.Dense(13,activation=\"sigmoid\")(out7)\n",
    "lenet=KM.Model(input,output)\n",
    "lenet.summary()"
   ]
  },
  {
   "cell_type": "code",
   "execution_count": 363,
   "metadata": {
    "id": "e0ufJPWTcjdp"
   },
   "outputs": [],
   "source": [
    "def customloss1(y_true,y_pred):\n",
    "    print((y_true.shape))\n",
    "    loss=keras.losses.categorical_crossentropy(y_true[0:32,0:10],y_pred[0:32,0:10])+keras.losses.MSE(y_true[0:32,10:],y_pred[0:32,10:])\n",
    "    print(y_pred)\n",
    "\n",
    "    return loss\n",
    "lenet.compile(optimizer='adam', loss=customloss1)"
   ]
  },
  {
   "cell_type": "code",
   "execution_count": 364,
   "metadata": {
    "id": "HwI6w6hZcjdr"
   },
   "outputs": [],
   "source": [
    "trainx=np.array(trainx)\n",
    "traincircley=np.array(traincircley)\n",
    "traincircley=traincircley.astype(np.float32)\n",
    "trainx=trainx.astype(np.float32)"
   ]
  },
  {
   "cell_type": "code",
   "execution_count": 365,
   "metadata": {
    "colab": {
     "base_uri": "https://localhost:8080/"
    },
    "id": "SNkR7ybGcjdr",
    "outputId": "fe0466e5-3ad5-49ad-f901-3bdf97e57ae1",
    "scrolled": false
   },
   "outputs": [
    {
     "name": "stdout",
     "output_type": "stream",
     "text": [
      "Epoch 1/7\n",
      "(32, 13)\n",
      "Tensor(\"model_13/dense_105/Sigmoid:0\", shape=(32, 13), dtype=float32)\n",
      "(32, 13)\n",
      "Tensor(\"model_13/dense_105/Sigmoid:0\", shape=(32, 13), dtype=float32)\n",
      "1875/1875 [==============================] - 8s 4ms/step - loss: 0.7206\n",
      "Epoch 2/7\n",
      "1875/1875 [==============================] - 7s 4ms/step - loss: 0.0884\n",
      "Epoch 3/7\n",
      "1875/1875 [==============================] - 7s 4ms/step - loss: 0.0605\n",
      "Epoch 4/7\n",
      "1875/1875 [==============================] - 7s 4ms/step - loss: 0.0504\n",
      "Epoch 5/7\n",
      "1875/1875 [==============================] - 7s 4ms/step - loss: 0.0466\n",
      "Epoch 6/7\n",
      "1875/1875 [==============================] - 7s 4ms/step - loss: 0.0383\n",
      "Epoch 7/7\n",
      "1875/1875 [==============================] - 7s 4ms/step - loss: 0.0382\n"
     ]
    },
    {
     "data": {
      "text/plain": [
       "<tensorflow.python.keras.callbacks.History at 0x7f26b1098590>"
      ]
     },
     "execution_count": 365,
     "metadata": {
      "tags": []
     },
     "output_type": "execute_result"
    }
   ],
   "source": [
    "lenet.fit(trainx,traincircley,batch_size=32,epochs=7)"
   ]
  },
  {
   "cell_type": "code",
   "execution_count": 366,
   "metadata": {
    "colab": {
     "base_uri": "https://localhost:8080/"
    },
    "id": "BhK6KWzocjds",
    "outputId": "d819ce28-a92e-4a7d-ed33-b4307d30eb18"
   },
   "outputs": [
    {
     "name": "stdout",
     "output_type": "stream",
     "text": [
      "(None, 13)\n",
      "Tensor(\"model_13/dense_105/Sigmoid:0\", shape=(None, 13), dtype=float32)\n",
      "313/313 [==============================] - 1s 2ms/step - loss: 0.0412\n"
     ]
    }
   ],
   "source": [
    "testcircley=np.array(testcircley)\n",
    "testcircley=testcircley.astype(np.float32)\n",
    "lossontest=lenet.evaluate(testx,testcircley)"
   ]
  },
  {
   "cell_type": "code",
   "execution_count": 375,
   "metadata": {
    "colab": {
     "base_uri": "https://localhost:8080/"
    },
    "id": "NG_dEBy8cjdt",
    "outputId": "a9b75e53-583b-42d1-be24-002f27905a78"
   },
   "outputs": [
    {
     "data": {
      "text/plain": [
       "0.04116813465952873"
      ]
     },
     "execution_count": 375,
     "metadata": {
      "tags": []
     },
     "output_type": "execute_result"
    }
   ],
   "source": [
    "lossontest"
   ]
  },
  {
   "cell_type": "code",
   "execution_count": 376,
   "metadata": {
    "colab": {
     "base_uri": "https://localhost:8080/"
    },
    "id": "kLYk8Unlcjdu",
    "outputId": "edd26fc1-ce12-42f9-c5e6-cafc1a7b27c4"
   },
   "outputs": [
    {
     "data": {
      "text/plain": [
       "array([0.        , 1.        , 0.        , 0.        , 0.        ,\n",
       "       0.        , 0.        , 0.        , 0.        , 0.        ,\n",
       "       0.4642857 , 0.5       , 0.78571427], dtype=float32)"
      ]
     },
     "execution_count": 376,
     "metadata": {
      "tags": []
     },
     "output_type": "execute_result"
    }
   ],
   "source": [
    "testcircley[2]"
   ]
  },
  {
   "cell_type": "code",
   "execution_count": 377,
   "metadata": {
    "id": "vKxbNgIscjdv"
   },
   "outputs": [],
   "source": [
    "predictions=lenet.predict(testx)"
   ]
  },
  {
   "cell_type": "code",
   "execution_count": 378,
   "metadata": {
    "colab": {
     "base_uri": "https://localhost:8080/"
    },
    "id": "X49VstQGcjdv",
    "outputId": "b323d959-1a7e-4304-8cb9-e3b0aae59e6a"
   },
   "outputs": [
    {
     "data": {
      "text/plain": [
       "(28, 28)"
      ]
     },
     "execution_count": 378,
     "metadata": {
      "tags": []
     },
     "output_type": "execute_result"
    }
   ],
   "source": [
    "testx[0].shape"
   ]
  },
  {
   "cell_type": "code",
   "execution_count": 379,
   "metadata": {
    "colab": {
     "base_uri": "https://localhost:8080/"
    },
    "id": "A7vO7Hoicjdw",
    "outputId": "24a3febc-f31f-43a0-e326-dfa89f2b663b"
   },
   "outputs": [
    {
     "data": {
      "text/plain": [
       "array([1.54216503e-19, 9.99999762e-01, 3.15201365e-10, 1.62416455e-10,\n",
       "       1.20228588e-12, 6.07182500e-08, 1.96272082e-15, 1.43954386e-08,\n",
       "       1.09232345e-10, 4.06005042e-15, 4.82406616e-01, 4.77414489e-01,\n",
       "       7.44811893e-01], dtype=float32)"
      ]
     },
     "execution_count": 379,
     "metadata": {
      "tags": []
     },
     "output_type": "execute_result"
    }
   ],
   "source": [
    "predictions[2]"
   ]
  },
  {
   "cell_type": "code",
   "execution_count": 380,
   "metadata": {
    "id": "uTMtCE8acjdx"
   },
   "outputs": [],
   "source": [
    "def predictionexplained(pred):\n",
    "    max=0\n",
    "    maxind=-1\n",
    "    i=0\n",
    "    for i in range(10):\n",
    "        if pred[i]>max:\n",
    "            max=pred[i]\n",
    "            maxind=i\n",
    "    x=int(round(pred[10]*28))\n",
    "    y=int(round(pred[11]*28))\n",
    "    radius=int(round(pred[12]*14))\n",
    "    return maxind,x,y,radius"
   ]
  },
  {
   "cell_type": "code",
   "execution_count": 381,
   "metadata": {
    "id": "Hcvparqzcjdy"
   },
   "outputs": [],
   "source": [
    "p=predictionexplained(predictions[2])"
   ]
  },
  {
   "cell_type": "code",
   "execution_count": 382,
   "metadata": {
    "colab": {
     "base_uri": "https://localhost:8080/"
    },
    "id": "9RpHYqIRcjdy",
    "outputId": "d08a2177-a43c-4260-c4e0-1ac9f5741ed2"
   },
   "outputs": [
    {
     "data": {
      "text/plain": [
       "13"
      ]
     },
     "execution_count": 382,
     "metadata": {
      "tags": []
     },
     "output_type": "execute_result"
    }
   ],
   "source": [
    "len(predictions[2])"
   ]
  },
  {
   "cell_type": "code",
   "execution_count": 383,
   "metadata": {
    "id": "J0uFhorDcjdz"
   },
   "outputs": [],
   "source": [
    "import cv2 as cv"
   ]
  },
  {
   "cell_type": "code",
   "execution_count": 384,
   "metadata": {
    "colab": {
     "base_uri": "https://localhost:8080/"
    },
    "id": "cUj0necncjdz",
    "outputId": "656f14b8-97fe-4139-f038-ba08c86c8b06"
   },
   "outputs": [
    {
     "data": {
      "text/plain": [
       "(1, 14, 13, 10)"
      ]
     },
     "execution_count": 384,
     "metadata": {
      "tags": []
     },
     "output_type": "execute_result"
    }
   ],
   "source": [
    "p"
   ]
  },
  {
   "cell_type": "code",
   "execution_count": 385,
   "metadata": {
    "colab": {
     "base_uri": "https://localhost:8080/",
     "height": 282
    },
    "id": "fF6l2B5Pcjdz",
    "outputId": "9570c02f-227d-4fec-c217-c0ad958fa412"
   },
   "outputs": [
    {
     "data": {
      "text/plain": [
       "<matplotlib.image.AxesImage at 0x7f26b0603a10>"
      ]
     },
     "execution_count": 385,
     "metadata": {
      "tags": []
     },
     "output_type": "execute_result"
    },
    {
     "data": {
      "image/png": "[encoded data removed]",
      "text/plain": [
       "<Figure size 432x288 with 1 Axes>"
      ]
     },
     "metadata": {
      "needs_background": "light",
      "tags": []
     },
     "output_type": "display_data"
    }
   ],
   "source": [
    "plt.imshow(testx[2],cmap='gray')"
   ]
  },
  {
   "cell_type": "code",
   "execution_count": 386,
   "metadata": {
    "id": "92dDQ_Npcjd0"
   },
   "outputs": [],
   "source": [
    "def circledrawing(im,radius,x,y):\n",
    "    colorim=np.zeros((28,28,3))\n",
    "    for i in range(28):\n",
    "      for j in range(28):\n",
    "        if im[i][j]>0:\n",
    "          colorim[i][j][0]=im[i][j]\n",
    "          colorim[i][j][1]=im[i][j]\n",
    "          colorim[i][j][2]=im[i][j]\n",
    "    imge=cv.circle(colorim,(x,y),radius,(255,0,0),1)\n",
    "    return imge\n"
   ]
  },
  {
   "cell_type": "code",
   "execution_count": 387,
   "metadata": {
    "id": "NJUSFY72cjd1"
   },
   "outputs": [],
   "source": [
    "def circlemaker(im):\n",
    "    points=[]\n",
    "    for i in range(28):\n",
    "        for j in range(28):\n",
    "            if im[i][j]==1:\n",
    "                points.append([i,j])\n",
    "    points=np.array(points)\n",
    "    points=points.astype(np.int)\n",
    "    (x,y),radius = cv.minEnclosingCircle(points)\n",
    "    return int(x),int(y),int(radius)\n"
   ]
  },
  {
   "cell_type": "code",
   "execution_count": 388,
   "metadata": {
    "colab": {
     "base_uri": "https://localhost:8080/",
     "height": 298
    },
    "id": "5irYrk_ocjd2",
    "outputId": "bf78ea4d-c247-47ae-ebc1-d43942fa39c0"
   },
   "outputs": [
    {
     "name": "stderr",
     "output_type": "stream",
     "text": [
      "Clipping input data to the valid range for imshow with RGB data ([0..1] for floats or [0..255] for integers).\n"
     ]
    },
    {
     "data": {
      "text/plain": [
       "<matplotlib.image.AxesImage at 0x7f26b04e1250>"
      ]
     },
     "execution_count": 388,
     "metadata": {
      "tags": []
     },
     "output_type": "execute_result"
    },
    {
     "data": {
      "image/png": "[encoded data removed]",
      "text/plain": [
       "<Figure size 432x288 with 1 Axes>"
      ]
     },
     "metadata": {
      "needs_background": "light",
      "tags": []
     },
     "output_type": "display_data"
    }
   ],
   "source": [
    "plt.imshow(circledrawing(testx[2],int(round(testcircley[2][12]*14)),int(round(testcircley[2][10]*28)),int(round(testcircley[2][11]*28))))"
   ]
  },
  {
   "cell_type": "code",
   "execution_count": 389,
   "metadata": {
    "colab": {
     "base_uri": "https://localhost:8080/",
     "height": 298
    },
    "id": "X46_z7Xecjd2",
    "outputId": "0d326e1a-86cd-482b-ec1b-6cbc93fa887d"
   },
   "outputs": [
    {
     "name": "stderr",
     "output_type": "stream",
     "text": [
      "Clipping input data to the valid range for imshow with RGB data ([0..1] for floats or [0..255] for integers).\n"
     ]
    },
    {
     "data": {
      "text/plain": [
       "<matplotlib.image.AxesImage at 0x7f26b04c16d0>"
      ]
     },
     "execution_count": 389,
     "metadata": {
      "tags": []
     },
     "output_type": "execute_result"
    },
    {
     "data": {
      "image/png": "[encoded data removed]",
      "text/plain": [
       "<Figure size 432x288 with 1 Axes>"
      ]
     },
     "metadata": {
      "needs_background": "light",
      "tags": []
     },
     "output_type": "display_data"
    }
   ],
   "source": [
    "plt.imshow(circledrawing(testx[2],p[3],p[1],p[2]))"
   ]
  },
  {
   "cell_type": "code",
   "execution_count": 390,
   "metadata": {
    "id": "GikqNkfzcjd3"
   },
   "outputs": [],
   "source": [
    "import math\n",
    "def jaccardfinder(r1,x1,y1,r2,x2,y2):\n",
    "    circ1=0\n",
    "    circ2=0\n",
    "    intersections=0\n",
    "    for i in range(28):\n",
    "        for j in range(28):\n",
    "            d1=((i-x1)**2)+((j-y1)**2)\n",
    "            d1=math.sqrt(d1)\n",
    "            d2=((i-x2)**2)+((j-y2)**2)\n",
    "            d2=math.sqrt(d2)\n",
    "            if d1<=(r1):\n",
    "                circ1=circ1+1\n",
    "            if d2<=(r2):\n",
    "                circ2=circ2+1\n",
    "            if d1<=(r1) and d2<=(r2):\n",
    "                intersections=intersections+1\n",
    "    return (intersections)/(circ1+circ2-intersections)\n",
    "            "
   ]
  },
  {
   "cell_type": "code",
   "execution_count": 391,
   "metadata": {
    "colab": {
     "base_uri": "https://localhost:8080/"
    },
    "id": "7XlbNBW4cjd4",
    "outputId": "fa03facf-0793-473e-fef4-1da36ff04f7e"
   },
   "outputs": [
    {
     "data": {
      "text/plain": [
       "0.7513812154696132"
      ]
     },
     "execution_count": 391,
     "metadata": {
      "tags": []
     },
     "output_type": "execute_result"
    }
   ],
   "source": [
    "jaccardfinder(p[3],p[1],p[2],int(testcircley[2][12]*14),int(testcircley[2][10]*28),int(testcircley[2][11]*28))"
   ]
  },
  {
   "cell_type": "code",
   "execution_count": 392,
   "metadata": {
    "id": "TtZxgpaBcjd5"
   },
   "outputs": [],
   "source": [
    "avgjaccardscore=0\n",
    "for i in range(10000):\n",
    "    p=predictionexplained(predictions[i])\n",
    "    q=predictionexplained(testcircley[i])\n",
    "    if p[0]==q[0]:\n",
    "        jacc=jaccardfinder(p[3],p[1],p[2],q[3],q[1],q[2])\n",
    "        avgjaccardscore=avgjaccardscore+jacc"
   ]
  },
  {
   "cell_type": "code",
   "execution_count": 393,
   "metadata": {
    "id": "3Xa4HQY2cjd5"
   },
   "outputs": [],
   "source": [
    "avgjaccardscore=avgjaccardscore/10000"
   ]
  },
  {
   "cell_type": "code",
   "execution_count": 394,
   "metadata": {
    "colab": {
     "base_uri": "https://localhost:8080/"
    },
    "id": "nlOL2wl-cjd6",
    "outputId": "2894d260-1d14-423b-9743-f0f7ab9b26dd"
   },
   "outputs": [
    {
     "name": "stdout",
     "output_type": "stream",
     "text": [
      "The average jaccard score is  0.8261841803795902\n"
     ]
    }
   ],
   "source": [
    "print(\"The average jaccard score is \",avgjaccardscore)"
   ]
  },
  {
   "cell_type": "code",
   "execution_count": 395,
   "metadata": {
    "colab": {
     "base_uri": "https://localhost:8080/",
     "height": 298
    },
    "id": "Mj0hL6Gucjd6",
    "outputId": "2e8ffd6e-d65c-4999-d2b0-52178727e058"
   },
   "outputs": [
    {
     "name": "stderr",
     "output_type": "stream",
     "text": [
      "Clipping input data to the valid range for imshow with RGB data ([0..1] for floats or [0..255] for integers).\n"
     ]
    },
    {
     "data": {
      "text/plain": [
       "<matplotlib.image.AxesImage at 0x7f26b042bb50>"
      ]
     },
     "execution_count": 395,
     "metadata": {
      "tags": []
     },
     "output_type": "execute_result"
    },
    {
     "data": {
      "image/png": "[encoded data removed]",
      "text/plain": [
       "<Figure size 432x288 with 1 Axes>"
      ]
     },
     "metadata": {
      "needs_background": "light",
      "tags": []
     },
     "output_type": "display_data"
    }
   ],
   "source": [
    "plt.imshow(circledrawing(testx[9999],p[3],p[1],p[2]))"
   ]
  },
  {
   "cell_type": "code",
   "execution_count": 396,
   "metadata": {
    "colab": {
     "base_uri": "https://localhost:8080/",
     "height": 298
    },
    "id": "nHul2WXMcjd7",
    "outputId": "5175c977-f6c4-402a-d72f-415cfa45bf6c"
   },
   "outputs": [
    {
     "name": "stderr",
     "output_type": "stream",
     "text": [
      "Clipping input data to the valid range for imshow with RGB data ([0..1] for floats or [0..255] for integers).\n"
     ]
    },
    {
     "data": {
      "text/plain": [
       "<matplotlib.image.AxesImage at 0x7f26b04149d0>"
      ]
     },
     "execution_count": 396,
     "metadata": {
      "tags": []
     },
     "output_type": "execute_result"
    },
    {
     "data": {
      "image/png": "[encoded data removed]",
      "text/plain": [
       "<Figure size 432x288 with 1 Axes>"
      ]
     },
     "metadata": {
      "needs_background": "light",
      "tags": []
     },
     "output_type": "display_data"
    }
   ],
   "source": [
    "plt.imshow(circledrawing(testx[9999],q[3],q[1],q[2]))"
   ]
  },
  {
   "cell_type": "code",
   "execution_count": 360,
   "metadata": {
    "colab": {
     "base_uri": "https://localhost:8080/"
    },
    "id": "w8eYIcRscjd7",
    "outputId": "99bf0db3-1d1d-4e62-ddba-fd4e36f331bd"
   },
   "outputs": [
    {
     "data": {
      "text/plain": [
       "6"
      ]
     },
     "execution_count": 360,
     "metadata": {
      "tags": []
     },
     "output_type": "execute_result"
    }
   ],
   "source": [
    "q[0]"
   ]
  },
  {
   "cell_type": "code",
   "execution_count": null,
   "metadata": {
    "id": "VVCwxmF-cjd8"
   },
   "outputs": [],
   "source": []
  }
 ],
 "metadata": {
  "accelerator": "GPU",
  "colab": {
   "collapsed_sections": [],
   "name": "Assignment3_Q3updated83.ipynb",
   "provenance": []
  },
  "kernelspec": {
   "display_name": "Python 3",
   "language": "python",
   "name": "python3"
  },
  "language_info": {
   "codemirror_mode": {
    "name": "ipython",
    "version": 3
   },
   "file_extension": ".py",
   "mimetype": "text/x-python",
   "name": "python",
   "nbconvert_exporter": "python",
   "pygments_lexer": "ipython3",
   "version": "3.7.4"
  }
 },
 "nbformat": 4,
 "nbformat_minor": 1
}
