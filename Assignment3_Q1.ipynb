{
 "cells": [
  {
   "cell_type": "code",
   "execution_count": 5,
   "metadata": {
    "colab": {
     "base_uri": "https://localhost:8080/"
    },
    "id": "NO3XIJhqD7BX",
    "outputId": "fde75a68-4fa9-47ff-8500-b809aead0b03"
   },
   "outputs": [],
   "source": [
    "from keras.datasets import mnist\n",
    "(train_X, train_y), (test_X, test_y) = mnist.load_data()\n"
   ]
  },
  {
   "cell_type": "code",
   "execution_count": 6,
   "metadata": {
    "id": "-scwzAAcD7Bc"
   },
   "outputs": [],
   "source": [
    "import matplotlib.pyplot as plt\n",
    "import numpy as np"
   ]
  },
  {
   "cell_type": "code",
   "execution_count": 7,
   "metadata": {
    "id": "DY7ltLBaD7Bg"
   },
   "outputs": [],
   "source": [
    "#Function to find tss based threshold\n",
    "def otsufinder(im):\n",
    "    maxsum=float('inf')\n",
    "    maxthres=-1\n",
    "    foregroundisless=True\n",
    "    hist=[0 for i in range(256)]\n",
    "    for g in range(28):\n",
    "      for h in range(28):\n",
    "        hist[im[g][h]]=hist[im[g][h]]+1\n",
    "    \n",
    "        \n",
    "    for t in range(256):\n",
    "        \n",
    "        w1=0\n",
    "        w2=0\n",
    "        avg1=0\n",
    "        avg2=0\n",
    "        tss1=0\n",
    "        tss2=0\n",
    "        for q in range(256):\n",
    "          if q<=t:\n",
    "            w1=w1+hist[q]\n",
    "            avg1=avg1+(hist[q]*q)\n",
    "          else:\n",
    "            w2=w2+hist[q]\n",
    "            avg2=avg2+(hist[q]*q)\n",
    "        avg1=(avg1+0.0001)/(w1+0.0001)\n",
    "        avg2=(avg2+0.0001)/(w2+0.0001)\n",
    "        for r in range(256):\n",
    "          if r<=t:\n",
    "            tss1=tss1+(hist[r]*((r-avg1)**2))\n",
    "          else:\n",
    "            tss2=tss2+(hist[r]*((r-avg2)**2))\n",
    "        localsum=(tss1)+(tss2)\n",
    "        if localsum<maxsum:\n",
    "            maxsum=localsum\n",
    "            maxthres=t\n",
    "            foregroundisless=w1>w2\n",
    "        \n",
    "        \n",
    "        \n",
    "    return (maxsum,maxthres,foregroundisless)\n",
    "                    \n",
    "\n",
    "    "
   ]
  },
  {
   "cell_type": "code",
   "execution_count": null,
   "metadata": {
    "id": "kuBDZIqTD7Bi"
   },
   "outputs": [],
   "source": [
    "trainotsu=[]\n",
    "testotsu=[]\n",
    "for i in range(len(train_X)):\n",
    "    o=otsufinder(train_X[i])\n",
    "    res=foregroundcalculator(train_X[i],o[1])\n",
    "    trainotsu.append(res)\n",
    "    "
   ]
  },
  {
   "cell_type": "code",
   "execution_count": null,
   "metadata": {
    "id": "rdDtwBpZl8Df"
   },
   "outputs": [],
   "source": [
    "import pickle\n",
    "file_name = \"wrongtss.pkl\"\n",
    "\n",
    "open_file = open(file_name, \"wb\")\n",
    "pickle.dump(trainotsu, open_file)\n",
    "open_file.close()"
   ]
  },
  {
   "cell_type": "code",
   "execution_count": 5,
   "metadata": {
    "colab": {
     "base_uri": "https://localhost:8080/"
    },
    "id": "2VRkPuUoD7Bj",
    "outputId": "3de8f936-c581-4ebf-f2b7-1e2abace68da"
   },
   "outputs": [
    {
     "data": {
      "text/plain": [
       "(355764.886596757, 108, True)"
      ]
     },
     "execution_count": 5,
     "metadata": {},
     "output_type": "execute_result"
    }
   ],
   "source": [
    "otsufinder(train_X[0])"
   ]
  },
  {
   "cell_type": "code",
   "execution_count": 6,
   "metadata": {
    "id": "-O4WLsjQD7Bk"
   },
   "outputs": [
    {
     "ename": "NameError",
     "evalue": "name 'pickle' is not defined",
     "output_type": "error",
     "traceback": [
      "\u001b[1;31m---------------------------------------------------------------------------\u001b[0m",
      "\u001b[1;31mNameError\u001b[0m                                 Traceback (most recent call last)",
      "\u001b[1;32m<ipython-input-6-ea3868536875>\u001b[0m in \u001b[0;36m<module>\u001b[1;34m\u001b[0m\n\u001b[1;32m----> 1\u001b[1;33m \u001b[0mwrongtss\u001b[0m\u001b[1;33m=\u001b[0m\u001b[0mpickle\u001b[0m\u001b[1;33m.\u001b[0m\u001b[0mload\u001b[0m\u001b[1;33m(\u001b[0m\u001b[0mopen\u001b[0m\u001b[1;33m(\u001b[0m\u001b[1;34m'wrongtss.pkl'\u001b[0m\u001b[1;33m,\u001b[0m \u001b[1;34m'rb'\u001b[0m\u001b[1;33m)\u001b[0m\u001b[1;33m)\u001b[0m\u001b[1;33m\u001b[0m\u001b[1;33m\u001b[0m\u001b[0m\n\u001b[0m",
      "\u001b[1;31mNameError\u001b[0m: name 'pickle' is not defined"
     ]
    }
   ],
   "source": [
    "wrongtss=pickle.load(open('wrongtss.pkl', 'rb'))\n"
   ]
  },
  {
   "cell_type": "code",
   "execution_count": 44,
   "metadata": {
    "id": "eODaKuMGp5k_"
   },
   "outputs": [],
   "source": [
    "def imageinverse(wrong):\n",
    "  ans=np.zeros((28,28))\n",
    "  for i in range(28):\n",
    "    for j in range(28):\n",
    "      ans[i][j]=1-wrong[i][j]\n",
    "  return ans\n"
   ]
  },
  {
   "cell_type": "code",
   "execution_count": null,
   "metadata": {
    "id": "yDHgTPspuMuJ"
   },
   "outputs": [],
   "source": [
    "rightss=[]\n",
    "for i in range(len(wrongtss)):\n",
    "  img=imageinverse(wrongtss[i])\n",
    "  rightss.append(img)"
   ]
  },
  {
   "cell_type": "code",
   "execution_count": null,
   "metadata": {
    "id": "6bhzXDgBvMac"
   },
   "outputs": [],
   "source": [
    "file_name = \"righttss.pkl\"\n",
    "\n",
    "open_file = open(file_name, \"wb\")\n",
    "pickle.dump(rightss, open_file)\n",
    "open_file.close()"
   ]
  },
  {
   "cell_type": "code",
   "execution_count": 8,
   "metadata": {
    "colab": {
     "base_uri": "https://localhost:8080/",
     "height": 178
    },
    "id": "VjXgZRKGyLAe",
    "outputId": "2526d046-6714-4672-f175-0f308d22c066"
   },
   "outputs": [],
   "source": [
    "import pickle\n",
    "traintss=pickle.load(open('righttss.pkl', 'rb'))\n"
   ]
  },
  {
   "cell_type": "code",
   "execution_count": null,
   "metadata": {
    "id": "gu1FpNIaykL-"
   },
   "outputs": [],
   "source": [
    "testtss=[]\n",
    "for i in range(len(test_X)):\n",
    "    o=otsufinder(test_X[i])\n",
    "    res=foregroundcalculatorcorrect(test_X[i],o[1])\n",
    "    testtss.append(res)"
   ]
  },
  {
   "cell_type": "code",
   "execution_count": null,
   "metadata": {
    "id": "xaZlzISM0eky"
   },
   "outputs": [],
   "source": [
    "file_name = \"testtss.pkl\"\n",
    "\n",
    "open_file = open(file_name, \"wb\")\n",
    "pickle.dump(testtss, open_file)\n",
    "open_file.close()"
   ]
  },
  {
   "cell_type": "code",
   "execution_count": 9,
   "metadata": {
    "id": "u_lsX4PM3bGp"
   },
   "outputs": [],
   "source": [
    "import pickle\n",
    "testtss=pickle.load(open('testtss.pkl', 'rb'))\n"
   ]
  },
  {
   "cell_type": "code",
   "execution_count": 10,
   "metadata": {
    "id": "YxUBXLO5D7Bl"
   },
   "outputs": [],
   "source": [
    "def foregroundcalculator(im,t):\n",
    "    sampleim=np.zeros((28,28))\n",
    "    for i in range(28):\n",
    "        for j in range(28):\n",
    "            if im[i][j]<=t:\n",
    "                sampleim[i][j]=1\n",
    "            else:\n",
    "                sampleim[i][j]=0\n",
    "    return sampleim\n"
   ]
  },
  {
   "cell_type": "code",
   "execution_count": 11,
   "metadata": {
    "id": "xRKcuVyUysXJ"
   },
   "outputs": [],
   "source": [
    "def foregroundcalculatorcorrect(im,t):\n",
    "    sampleim=np.zeros((28,28))\n",
    "    for i in range(28):\n",
    "        for j in range(28):\n",
    "            if im[i][j]<=t:\n",
    "                sampleim[i][j]=0\n",
    "            else:\n",
    "                sampleim[i][j]=1\n",
    "    return sampleim\n"
   ]
  },
  {
   "cell_type": "code",
   "execution_count": 5,
   "metadata": {},
   "outputs": [],
   "source": [
    "import cv2 as cv"
   ]
  },
  {
   "cell_type": "code",
   "execution_count": 14,
   "metadata": {
    "colab": {
     "base_uri": "https://localhost:8080/"
    },
    "id": "9iCiuxd275YM",
    "outputId": "f520caed-b86c-45b5-8c63-834979bf2b19"
   },
   "outputs": [],
   "source": [
    "testtss[2] = testtss[2].astype(np.uint8)\n"
   ]
  },
  {
   "cell_type": "code",
   "execution_count": 15,
   "metadata": {
    "id": "nwg7ZQIL8AGj"
   },
   "outputs": [],
   "source": [
    "im2, contours = cv.findContours(train_X[2], cv.RETR_TREE, cv.CHAIN_APPROX_SIMPLE)\n"
   ]
  },
  {
   "cell_type": "code",
   "execution_count": 113,
   "metadata": {
    "id": "0AawMdUs_Ilo"
   },
   "outputs": [],
   "source": [
    "testtss[4]=testtss[4].astype(np.uint8)\n",
    "\n",
    "contours, hierarchy = cv.findContours(testtss[3], \n",
    "    cv.RETR_EXTERNAL, cv.CHAIN_APPROX_NONE)"
   ]
  },
  {
   "cell_type": "code",
   "execution_count": 11,
   "metadata": {},
   "outputs": [
    {
     "data": {
      "text/plain": [
       "<matplotlib.image.AxesImage at 0x2e1453d9448>"
      ]
     },
     "execution_count": 11,
     "metadata": {},
     "output_type": "execute_result"
    },
    {
     "data": {
      "image/png": "[encoded data removed]",
      "text/plain": [
       "<Figure size 432x288 with 1 Axes>"
      ]
     },
     "metadata": {
      "needs_background": "light"
     },
     "output_type": "display_data"
    }
   ],
   "source": [
    "plt.imshow(test_X[4],cmap='gray')"
   ]
  },
  {
   "cell_type": "code",
   "execution_count": 10,
   "metadata": {
    "colab": {
     "base_uri": "https://localhost:8080/",
     "height": 282
    },
    "id": "6_3_dRpK_YRt",
    "outputId": "2319de42-3bca-4a29-a1dd-2a1a372fa9f7"
   },
   "outputs": [
    {
     "data": {
      "text/plain": [
       "<matplotlib.image.AxesImage at 0x2e1399c42c8>"
      ]
     },
     "execution_count": 10,
     "metadata": {},
     "output_type": "execute_result"
    },
    {
     "data": {
      "image/png": "[encoded data removed]",
      "text/plain": [
       "<Figure size 432x288 with 1 Axes>"
      ]
     },
     "metadata": {
      "needs_background": "light"
     },
     "output_type": "display_data"
    }
   ],
   "source": [
    "#testtss[3]=testtss[3].astype(np.uint8)\n",
    "\n",
    "plt.imshow(testtss[4] ,cmap='gray')"
   ]
  },
  {
   "cell_type": "code",
   "execution_count": 116,
   "metadata": {
    "id": "Vj2p-jOb_w68"
   },
   "outputs": [],
   "source": [
    "x=testtss[4].copy()"
   ]
  },
  {
   "cell_type": "code",
   "execution_count": null,
   "metadata": {
    "id": "-vzjpKezZv_e"
   },
   "outputs": [],
   "source": []
  },
  {
   "cell_type": "code",
   "execution_count": 117,
   "metadata": {
    "id": "OIC4WuPZ_hU7"
   },
   "outputs": [],
   "source": [
    "y=cv.drawContours(x, contours, -1, (0, 255, 0), 3)"
   ]
  },
  {
   "cell_type": "markdown",
   "metadata": {
    "id": "0Z_aK3aPZwrH"
   },
   "source": []
  },
  {
   "cell_type": "code",
   "execution_count": 118,
   "metadata": {
    "colab": {
     "base_uri": "https://localhost:8080/",
     "height": 282
    },
    "id": "KywtrRO9_4JY",
    "outputId": "2879638f-a2fe-4428-84cd-f676a52034cc"
   },
   "outputs": [
    {
     "data": {
      "text/plain": [
       "<matplotlib.image.AxesImage at 0x7f53d78b75d0>"
      ]
     },
     "execution_count": 118,
     "metadata": {
      "tags": []
     },
     "output_type": "execute_result"
    },
    {
     "data": {
      "image/png": "[encoded data removed]",
      "text/plain": [
       "<Figure size 432x288 with 1 Axes>"
      ]
     },
     "metadata": {
      "needs_background": "light",
      "tags": []
     },
     "output_type": "display_data"
    }
   ],
   "source": [
    "plt.imshow(y,cmap='gray')"
   ]
  },
  {
   "cell_type": "code",
   "execution_count": 14,
   "metadata": {},
   "outputs": [],
   "source": [
    "def circlemaker(im):\n",
    "    points=[]\n",
    "    for i in range(28):\n",
    "        for j in range(28):\n",
    "            if im[i][j]==1:\n",
    "                points.append([i,j])\n",
    "    points=np.array(points)\n",
    "    points=points.astype(np.int)\n",
    "    (x,y),radius = cv.minEnclosingCircle(points)\n",
    "    return int(x),int(y),int(radius)+1\n",
    "    \n",
    "    "
   ]
  },
  {
   "cell_type": "code",
   "execution_count": 15,
   "metadata": {},
   "outputs": [
    {
     "data": {
      "text/plain": [
       "(13, 13, 12)"
      ]
     },
     "execution_count": 15,
     "metadata": {},
     "output_type": "execute_result"
    }
   ],
   "source": [
    "aq=circlemaker(traintss[2])\n",
    "aq"
   ]
  },
  {
   "cell_type": "code",
   "execution_count": 16,
   "metadata": {},
   "outputs": [],
   "source": [
    "def circledrawing(im,radius,x,y):\n",
    "    colorim=np.zeros((28,28,3))\n",
    "    for i in range(28):\n",
    "      for j in range(28):\n",
    "        if im[i][j]==1:\n",
    "          colorim[i][j][0]=255\n",
    "          colorim[i][j][1]=255\n",
    "          colorim[i][j][2]=255\n",
    "    imge=cv.circle(colorim,(x,y),radius,(255,0,0),1)\n",
    "    return imge\n"
   ]
  },
  {
   "cell_type": "code",
   "execution_count": 17,
   "metadata": {},
   "outputs": [
    {
     "name": "stderr",
     "output_type": "stream",
     "text": [
      "Clipping input data to the valid range for imshow with RGB data ([0..1] for floats or [0..255] for integers).\n"
     ]
    },
    {
     "data": {
      "text/plain": [
       "<matplotlib.image.AxesImage at 0x1505266eec8>"
      ]
     },
     "execution_count": 17,
     "metadata": {},
     "output_type": "execute_result"
    },
    {
     "data": {
      "image/png": "[encoded data removed]",
      "text/plain": [
       "<Figure size 432x288 with 1 Axes>"
      ]
     },
     "metadata": {
      "needs_background": "light"
     },
     "output_type": "display_data"
    }
   ],
   "source": [
    "plt.imshow(circledrawing(traintss[2],aq[2],aq[0],aq[1]))"
   ]
  },
  {
   "cell_type": "code",
   "execution_count": 18,
   "metadata": {},
   "outputs": [],
   "source": [
    "newim=np.zeros((56,56))\n",
    " "
   ]
  },
  {
   "cell_type": "code",
   "execution_count": 19,
   "metadata": {},
   "outputs": [
    {
     "data": {
      "text/plain": [
       "<matplotlib.image.AxesImage at 0x1506bb59788>"
      ]
     },
     "execution_count": 19,
     "metadata": {},
     "output_type": "execute_result"
    },
    {
     "data": {
      "image/png": "[encoded data removed]",
      "text/plain": [
       "<Figure size 432x288 with 1 Axes>"
      ]
     },
     "metadata": {
      "needs_background": "light"
     },
     "output_type": "display_data"
    }
   ],
   "source": [
    "plt.imshow(newim,cmap='gray')"
   ]
  },
  {
   "cell_type": "code",
   "execution_count": 20,
   "metadata": {},
   "outputs": [
    {
     "data": {
      "text/plain": [
       "<matplotlib.image.AxesImage at 0x1506cb7c308>"
      ]
     },
     "execution_count": 20,
     "metadata": {},
     "output_type": "execute_result"
    },
    {
     "data": {
      "image/png": "[encoded data removed]",
      "text/plain": [
       "<Figure size 432x288 with 1 Axes>"
      ]
     },
     "metadata": {
      "needs_background": "light"
     },
     "output_type": "display_data"
    }
   ],
   "source": [
    "plt.imshow(traintss[3])"
   ]
  },
  {
   "cell_type": "code",
   "execution_count": 25,
   "metadata": {},
   "outputs": [],
   "source": [
    "circledata=[]"
   ]
  },
  {
   "cell_type": "code",
   "execution_count": 26,
   "metadata": {},
   "outputs": [],
   "source": [
    " for i in range(len(traintss)):\n",
    "        l=[0 for a in range(13)]\n",
    "        l[train_y[i]]=1\n",
    "        ci=circlemaker(traintss[i])\n",
    "        l[10]=ci[0]\n",
    "        l[11]=ci[1]\n",
    "        l[12]=ci[2]\n",
    "        circledata.append(l)\n"
   ]
  },
  {
   "cell_type": "code",
   "execution_count": 29,
   "metadata": {},
   "outputs": [],
   "source": [
    "import pandas as pd\n",
    "circledf=pd.DataFrame(circledata)\n",
    "circledf.to_csv(\"circledatabase.csv\",index=False,header=[\"O membership\",\"1 membership\",\"2 membership\",\"3 membership\",\"4 membership\",\"5 membership\",\"6 membership\",\"7 membership\",\"8 membership\",\"9 membership\",\"centre x\",\"centre y\",\"radius\"])"
   ]
  },
  {
   "cell_type": "code",
   "execution_count": 30,
   "metadata": {},
   "outputs": [],
   "source": [
    "file_name = \"circledatatrain.pkl\"\n",
    "\n",
    "open_file = open(file_name, \"wb\")\n",
    "pickle.dump(circledata, open_file)\n",
    "open_file.close()"
   ]
  },
  {
   "cell_type": "code",
   "execution_count": 32,
   "metadata": {},
   "outputs": [],
   "source": [
    "circledatatest=[]"
   ]
  },
  {
   "cell_type": "code",
   "execution_count": 33,
   "metadata": {},
   "outputs": [],
   "source": [
    "for i in range(len(testtss)):\n",
    "        l=[0 for a in range(13)]\n",
    "        l[test_y[i]]=1\n",
    "        ci=circlemaker(testtss[i])\n",
    "        l[10]=ci[0]\n",
    "        l[11]=ci[1]\n",
    "        l[12]=ci[2]\n",
    "        circledatatest.append(l)\n"
   ]
  },
  {
   "cell_type": "code",
   "execution_count": 37,
   "metadata": {},
   "outputs": [],
   "source": [
    "circledftest=pd.DataFrame(circledatatest)\n",
    "circledftest.to_csv(\"circledatabasetest.csv\",index=False,header=[\"O membership\",\"1 membership\",\"2 membership\",\"3 membership\",\"4 membership\",\"5 membership\",\"6 membership\",\"7 membership\",\"8 membership\",\"9 membership\",\"centre x\",\"centre y\",\"radius\"])"
   ]
  },
  {
   "cell_type": "code",
   "execution_count": 36,
   "metadata": {},
   "outputs": [
    {
     "data": {
      "text/plain": [
       "10000"
      ]
     },
     "execution_count": 36,
     "metadata": {},
     "output_type": "execute_result"
    }
   ],
   "source": [
    "len(circledatatest)"
   ]
  },
  {
   "cell_type": "code",
   "execution_count": 38,
   "metadata": {},
   "outputs": [],
   "source": [
    "file_name = \"circledatatest.pkl\"\n",
    "\n",
    "open_file = open(file_name, \"wb\")\n",
    "pickle.dump(circledatatest, open_file)\n",
    "open_file.close()"
   ]
  },
  {
   "cell_type": "code",
   "execution_count": 21,
   "metadata": {},
   "outputs": [],
   "source": [
    "import random\n"
   ]
  },
  {
   "cell_type": "code",
   "execution_count": 119,
   "metadata": {},
   "outputs": [],
   "source": [
    "train4imagesy=[]\n",
    "train4imagesx=[]\n",
    "for j in range(15000):\n",
    "    maps=np.zeros((56,56,11))\n",
    "    concatimage=np.zeros((56,56))\n",
    "    for i in range(4):\n",
    "        rnd=random.randint(0,59999)\n",
    "        label=train_y[rnd]\n",
    "#         print(label)\n",
    "#         print(maps.shape)\n",
    "#         print(maps[:,:,label+1].shape)\n",
    "        if i==0:\n",
    "            maps[:,:,label][0:28,0:28]=traintss[rnd]\n",
    "            maps[:,:,10][0:28,0:28]=imageinverse(traintss[rnd])\n",
    "            concatimage[0:28,0:28]=traintss[rnd]\n",
    "        if i==1:\n",
    "            maps[:,:,label][0:28,28:56]=traintss[rnd]\n",
    "            maps[:,:,10][0:28,28:56]=imageinverse(traintss[rnd])\n",
    "            concatimage[0:28,28:56]=traintss[rnd]\n",
    "        if i==2:\n",
    "            maps[:,:,label][28:56,0:28]=traintss[rnd]\n",
    "            maps[:,:,10][28:56,0:28]=imageinverse(traintss[rnd])\n",
    "            concatimage[28:56,0:28]=traintss[rnd]\n",
    "        if i==3:\n",
    "            maps[:,:,label][28:56,28:56]=traintss[rnd]\n",
    "            maps[:,:,10][28:56,28:56]=imageinverse(traintss[rnd])\n",
    "            concatimage[28:56,28:56]=traintss[rnd]\n",
    "    train4imagesy.append(maps)\n",
    "    train4imagesx.append(concatimage)\n",
    "\n",
    "        \n",
    "\n",
    "        \n",
    "    "
   ]
  },
  {
   "cell_type": "code",
   "execution_count": 120,
   "metadata": {},
   "outputs": [],
   "source": [
    "train4imagesy=np.array(train4imagesy)\n",
    "train4imagesy=train4imagesy.astype(np.float32)\n",
    "train4imagesx=np.array(train4imagesx)\n",
    "train4imagesx=train4imagesx.astype(np.float32)\n"
   ]
  },
  {
   "cell_type": "code",
   "execution_count": 121,
   "metadata": {},
   "outputs": [
    {
     "data": {
      "text/plain": [
       "<matplotlib.image.AxesImage at 0x20422106988>"
      ]
     },
     "execution_count": 121,
     "metadata": {},
     "output_type": "execute_result"
    },
    {
     "data": {
      "image/png": "[encoded data removed]",
      "text/plain": [
       "<Figure size 432x288 with 1 Axes>"
      ]
     },
     "metadata": {
      "needs_background": "light"
     },
     "output_type": "display_data"
    }
   ],
   "source": [
    "plt.imshow(train4imagesy[1999][:,:,10],cmap='gray')"
   ]
  },
  {
   "cell_type": "code",
   "execution_count": 122,
   "metadata": {},
   "outputs": [
    {
     "data": {
      "text/plain": [
       "<matplotlib.image.AxesImage at 0x20435dec308>"
      ]
     },
     "execution_count": 122,
     "metadata": {},
     "output_type": "execute_result"
    },
    {
     "data": {
      "image/png": "[encoded data removed]",
      "text/plain": [
       "<Figure size 432x288 with 1 Axes>"
      ]
     },
     "metadata": {
      "needs_background": "light"
     },
     "output_type": "display_data"
    }
   ],
   "source": [
    "plt.imshow(train4imagesx[1999],cmap='gray')"
   ]
  },
  {
   "cell_type": "code",
   "execution_count": 123,
   "metadata": {},
   "outputs": [],
   "source": [
    "test4imagesy=[]\n",
    "test4imagesx=[]\n",
    "for j in range(1000):\n",
    "    maps=np.zeros((56,56,11))\n",
    "    concatimage=np.zeros((56,56))\n",
    "    for i in range(4):\n",
    "        rnd=random.randint(0,9999)\n",
    "        label=test_y[rnd]\n",
    "        if i==0:\n",
    "            maps[:,:,label][0:28,0:28]=testtss[rnd]\n",
    "            maps[:,:,10][0:28,0:28]=imageinverse(testtss[rnd])\n",
    "            concatimage[0:28,0:28]=testtss[rnd]\n",
    "        if i==1:\n",
    "            maps[:,:,label][0:28,28:56]=testtss[rnd]\n",
    "            maps[:,:,10][0:28,28:56]=imageinverse(testtss[rnd])\n",
    "            concatimage[0:28,28:56]=testtss[rnd]\n",
    "        if i==2:\n",
    "            maps[:,:,label][28:56,0:28]=testtss[rnd]\n",
    "            maps[:,:,10][28:56,0:28]=imageinverse(testtss[rnd])\n",
    "            concatimage[28:56,0:28]=testtss[rnd]\n",
    "        if i==3:\n",
    "            maps[:,:,label][28:56,28:56]=testtss[rnd]\n",
    "            maps[:,:,10][28:56,28:56]=imageinverse(testtss[rnd])\n",
    "            concatimage[28:56,28:56]=testtss[rnd]\n",
    "    test4imagesy.append(maps)\n",
    "    test4imagesx.append(concatimage)\n"
   ]
  },
  {
   "cell_type": "code",
   "execution_count": 124,
   "metadata": {},
   "outputs": [],
   "source": [
    "test4imagesy=np.array(test4imagesy)\n",
    "test4imagesy=test4imagesy.astype(np.float32)\n",
    "test4imagesx=np.array(test4imagesx)\n",
    "test4imagesx=test4imagesx.astype(np.float32)"
   ]
  },
  {
   "cell_type": "code",
   "execution_count": 125,
   "metadata": {},
   "outputs": [
    {
     "data": {
      "text/plain": [
       "<matplotlib.image.AxesImage at 0x20435e4ce88>"
      ]
     },
     "execution_count": 125,
     "metadata": {},
     "output_type": "execute_result"
    },
    {
     "data": {
      "image/png": "[encoded data removed]",
      "text/plain": [
       "<Figure size 432x288 with 1 Axes>"
      ]
     },
     "metadata": {
      "needs_background": "light"
     },
     "output_type": "display_data"
    }
   ],
   "source": [
    "plt.imshow(train4imagesy[999][:,:,10],cmap='gray')"
   ]
  },
  {
   "cell_type": "code",
   "execution_count": 126,
   "metadata": {},
   "outputs": [
    {
     "data": {
      "text/plain": [
       "<matplotlib.image.AxesImage at 0x20435eadd88>"
      ]
     },
     "execution_count": 126,
     "metadata": {},
     "output_type": "execute_result"
    },
    {
     "data": {
      "image/png": "[encoded data removed]",
      "text/plain": [
       "<Figure size 432x288 with 1 Axes>"
      ]
     },
     "metadata": {
      "needs_background": "light"
     },
     "output_type": "display_data"
    }
   ],
   "source": [
    "plt.imshow(train4imagesx[999],cmap='gray')"
   ]
  },
  {
   "cell_type": "code",
   "execution_count": 127,
   "metadata": {},
   "outputs": [],
   "source": [
    "file_name = \"train4imagesx.pkl\"\n",
    "\n",
    "open_file = open(file_name, \"wb\")\n",
    "pickle.dump(train4imagesx, open_file)\n",
    "open_file.close()"
   ]
  },
  {
   "cell_type": "code",
   "execution_count": 128,
   "metadata": {},
   "outputs": [],
   "source": [
    "file_name = \"train4imagesy.pkl\"\n",
    "\n",
    "open_file = open(file_name, \"wb\")\n",
    "pickle.dump(train4imagesy, open_file)\n",
    "open_file.close()"
   ]
  },
  {
   "cell_type": "code",
   "execution_count": 129,
   "metadata": {},
   "outputs": [],
   "source": [
    "file_name = \"test4imagesx.pkl\"\n",
    "\n",
    "open_file = open(file_name, \"wb\")\n",
    "pickle.dump(test4imagesx, open_file)\n",
    "open_file.close()"
   ]
  },
  {
   "cell_type": "code",
   "execution_count": 130,
   "metadata": {},
   "outputs": [],
   "source": [
    "file_name = \"test4imagesy.pkl\"\n",
    "\n",
    "open_file = open(file_name, \"wb\")\n",
    "pickle.dump(test4imagesy, open_file)\n",
    "open_file.close()"
   ]
  },
  {
   "cell_type": "code",
   "execution_count": 7,
   "metadata": {},
   "outputs": [],
   "source": [
    "p=np.zeros((28,28,11))"
   ]
  },
  {
   "cell_type": "code",
   "execution_count": 8,
   "metadata": {},
   "outputs": [
    {
     "data": {
      "text/plain": [
       "array([0., 0., 0., 0., 0., 0., 0., 0., 0., 0., 0.])"
      ]
     },
     "execution_count": 8,
     "metadata": {},
     "output_type": "execute_result"
    }
   ],
   "source": [
    "p[0][0]"
   ]
  },
  {
   "cell_type": "code",
   "execution_count": 19,
   "metadata": {},
   "outputs": [
    {
     "data": {
      "text/plain": [
       "array([0., 0., 0., 0., 0., 0., 0., 0., 0., 0., 0.])"
      ]
     },
     "execution_count": 19,
     "metadata": {},
     "output_type": "execute_result"
    }
   ],
   "source": [
    "p[27][27]"
   ]
  },
  {
   "cell_type": "code",
   "execution_count": 12,
   "metadata": {},
   "outputs": [
    {
     "data": {
      "text/plain": [
       "(28, 11)"
      ]
     },
     "execution_count": 12,
     "metadata": {},
     "output_type": "execute_result"
    }
   ],
   "source": [
    "p[0].shape"
   ]
  },
  {
   "cell_type": "code",
   "execution_count": 20,
   "metadata": {},
   "outputs": [
    {
     "data": {
      "text/plain": [
       "(28, 28)"
      ]
     },
     "execution_count": 20,
     "metadata": {},
     "output_type": "execute_result"
    }
   ],
   "source": [
    "p[:,:,:11][:,:,0].shape\n",
    "#result = predictions[0][:, :, 0]\n"
   ]
  },
  {
   "cell_type": "code",
   "execution_count": 12,
   "metadata": {},
   "outputs": [],
   "source": [
    "forshowing=pickle.load(open('train4imagesy.pkl', 'rb'))\n"
   ]
  },
  {
   "cell_type": "code",
   "execution_count": 29,
   "metadata": {},
   "outputs": [
    {
     "data": {
      "text/plain": [
       "<matplotlib.image.AxesImage at 0x2e16d511ac8>"
      ]
     },
     "execution_count": 29,
     "metadata": {},
     "output_type": "execute_result"
    },
    {
     "data": {
      "image/png": "[encoded data removed]",
      "text/plain": [
       "<Figure size 432x288 with 1 Axes>"
      ]
     },
     "metadata": {
      "needs_background": "light"
     },
     "output_type": "display_data"
    }
   ],
   "source": [
    "plt.imshow(forshowing[999][:,:,10],cmap='gray')"
   ]
  },
  {
   "cell_type": "code",
   "execution_count": null,
   "metadata": {},
   "outputs": [],
   "source": []
  }
 ],
 "metadata": {
  "colab": {
   "collapsed_sections": [],
   "name": "Assignment3.ipynb",
   "provenance": []
  },
  "kernelspec": {
   "display_name": "Python 3",
   "language": "python",
   "name": "python3"
  },
  "language_info": {
   "codemirror_mode": {
    "name": "ipython",
    "version": 3
   },
   "file_extension": ".py",
   "mimetype": "text/x-python",
   "name": "python",
   "nbconvert_exporter": "python",
   "pygments_lexer": "ipython3",
   "version": "3.7.4"
  }
 },
 "nbformat": 4,
 "nbformat_minor": 1
}
