{
  "nbformat": 4,
  "nbformat_minor": 0,
  "metadata": {
    "kernelspec": {
      "display_name": "Python 3",
      "language": "python",
      "name": "python3"
    },
    "language_info": {
      "codemirror_mode": {
        "name": "ipython",
        "version": 3
      },
      "file_extension": ".py",
      "mimetype": "text/x-python",
      "name": "python",
      "nbconvert_exporter": "python",
      "pygments_lexer": "ipython3",
      "version": "3.7.4"
    },
    "colab": {
      "name": "Assignment3_Q4updated.ipynb",
      "provenance": [],
      "collapsed_sections": []
    },
    "accelerator": "GPU"
  },
  "cells": [
    {
      "cell_type": "code",
      "metadata": {
        "id": "Bp730VlrwamO"
      },
      "source": [
        "import tensorflow as tf\n",
        "from tensorflow import keras\n",
        "import numpy as np\n",
        "from matplotlib import pyplot as plt\n",
        "(trainx,trainy),(testx,testy) = keras.datasets.mnist.load_data()"
      ],
      "execution_count": 1,
      "outputs": []
    },
    {
      "cell_type": "code",
      "metadata": {
        "id": "-kDO0e-Hwamc"
      },
      "source": [
        "trainx=trainx/255.0\n",
        "testx=testx/255.0"
      ],
      "execution_count": 2,
      "outputs": []
    },
    {
      "cell_type": "code",
      "metadata": {
        "id": "PgU2MhYQyRmz"
      },
      "source": [
        "# from google.colab import drive\n",
        "# drive.mount('/content/drive')"
      ],
      "execution_count": 3,
      "outputs": []
    },
    {
      "cell_type": "code",
      "metadata": {
        "id": "Rs72FWUJwame"
      },
      "source": [
        "import pickle\n",
        "train4imagesx=pickle.load(open('drive/MyDrive/train4imagesx.pkl', 'rb'))\n",
        "train4imagesy=pickle.load(open('drive/MyDrive/train4imagesy.pkl', 'rb'))\n",
        "test4imagesx=pickle.load(open('drive/MyDrive/test4imagesx.pkl', 'rb'))\n",
        "test4imagesy=pickle.load(open('drive/MyDrive/test4imagesy.pkl', 'rb'))\n"
      ],
      "execution_count": 4,
      "outputs": []
    },
    {
      "cell_type": "code",
      "metadata": {
        "colab": {
          "base_uri": "https://localhost:8080/",
          "height": 283
        },
        "id": "3FNVbBkRwamf",
        "outputId": "060c26d6-4758-4560-8ab7-5f3d9c445c62"
      },
      "source": [
        "plt.imshow(test4imagesy[399][:,:,10],cmap='gray')"
      ],
      "execution_count": 5,
      "outputs": [
        {
          "output_type": "execute_result",
          "data": {
            "text/plain": [
              "<matplotlib.image.AxesImage at 0x7fc7cfe805d0>"
            ]
          },
          "metadata": {
            "tags": []
          },
          "execution_count": 5
        },
        {
          "output_type": "display_data",
          "data": {
            "image/png": "[encoded data removed]",
            "text/plain": [
              "<Figure size 432x288 with 1 Axes>"
            ]
          },
          "metadata": {
            "tags": [],
            "needs_background": "light"
          }
        }
      ]
    },
    {
      "cell_type": "code",
      "metadata": {
        "id": "CR2qCzR7wamn"
      },
      "source": [
        "train4imagesx=np.array(train4imagesx)\n",
        "train4imagesx=train4imagesx.astype(np.float32)\n",
        "train4imagesy=np.array(train4imagesy)\n",
        "train4imagesy=train4imagesy.astype(np.float32)\n",
        "test4imagesx=np.array(test4imagesx)\n",
        "test4imagesx=test4imagesx.astype(np.float32)\n",
        "test4imagesy=np.array(test4imagesy)\n",
        "test4imagesy=test4imagesy.astype(np.float32)"
      ],
      "execution_count": 6,
      "outputs": []
    },
    {
      "cell_type": "code",
      "metadata": {
        "colab": {
          "base_uri": "https://localhost:8080/"
        },
        "id": "qp42hNAIwamo",
        "outputId": "98d69a68-8381-43d5-b41c-9c05c218f96c"
      },
      "source": [
        "import tensorflow.keras.layers as KL\n",
        "import tensorflow.keras.models as KM\n",
        "input=KL.Input(shape=(56,56,1))\n",
        "conv1=KL.Conv2D(16,(3,3),padding=\"same\",activation=\"relu\")(input)\n",
        "conv1=KL.Conv2D(16,(3,3),padding=\"same\",activation=\"relu\")(conv1)\n",
        "max1=KL.MaxPooling2D(2)(conv1)\n",
        "conv2=KL.Conv2D(32,(3,3),padding=\"same\",activation=\"relu\")(max1)\n",
        "conv2=KL.Conv2D(32,(3,3),padding=\"same\",activation=\"relu\")(conv2)\n",
        "max2=KL.MaxPooling2D(2)(conv2)\n",
        "conv3=KL.Conv2D(64,(3,3),padding=\"same\",activation=\"relu\")(max2)\n",
        "conv3=KL.Conv2D(64,(3,3),padding=\"same\",activation=\"relu\")(conv3)\n",
        "max3=KL.MaxPooling2D(2)(conv3)\n",
        "conv4=KL.Conv2D(128,(3,3),padding=\"same\",activation=\"relu\")(max3)\n",
        "conv4=KL.Conv2D(128,(3,3),padding=\"same\",activation=\"relu\")(conv4)#7*7*128\n",
        "\n",
        "transconv1=KL.Conv2DTranspose(64,(2,2),strides=(2,2),padding=\"same\")(conv4)#14*14*64\n",
        "transconv1=KL.Concatenate()([transconv1,conv3])#14*14*128\n",
        "conv5=KL.Conv2D(64,(3,3),padding=\"same\",activation=\"relu\")(transconv1)\n",
        "conv5=KL.Conv2D(64,(3,3),padding=\"same\",activation=\"relu\")(conv5)#14*14*64\n",
        "transconv2=KL.Conv2DTranspose(32,(2,2),strides=(2,2),padding=\"same\")(conv5)#28*28*32\n",
        "transconv2=KL.Concatenate()([transconv2,conv2])#28*28*64\n",
        "conv6=KL.Conv2D(32,(3,3),padding=\"same\",activation=\"relu\")(transconv2)\n",
        "conv6=KL.Conv2D(32,(3,3),padding=\"same\",activation=\"relu\")(conv6)#28*28*32\n",
        "\n",
        "transconv3=KL.Conv2DTranspose(16,(2,2),strides=(2,2),padding=\"same\")(conv6)#56*56*16\n",
        "transconv3=KL.Concatenate()([transconv3,conv1])#56*56*32\n",
        "conv7=KL.Conv2D(16,(3,3),padding=\"same\",activation=\"relu\")(transconv3)#56*56*16\n",
        "\n",
        "output=KL.Conv2D(11,(3,3),padding=\"same\",activation=\"sigmoid\")(conv7)\n",
        "customunet=KM.Model(input,output)\n",
        "customunet.summary()"
      ],
      "execution_count": 7,
      "outputs": [
        {
          "output_type": "stream",
          "text": [
            "Model: \"model\"\n",
            "__________________________________________________________________________________________________\n",
            "Layer (type)                    Output Shape         Param #     Connected to                     \n",
            "==================================================================================================\n",
            "input_1 (InputLayer)            [(None, 56, 56, 1)]  0                                            \n",
            "__________________________________________________________________________________________________\n",
            "conv2d (Conv2D)                 (None, 56, 56, 16)   160         input_1[0][0]                    \n",
            "__________________________________________________________________________________________________\n",
            "conv2d_1 (Conv2D)               (None, 56, 56, 16)   2320        conv2d[0][0]                     \n",
            "__________________________________________________________________________________________________\n",
            "max_pooling2d (MaxPooling2D)    (None, 28, 28, 16)   0           conv2d_1[0][0]                   \n",
            "__________________________________________________________________________________________________\n",
            "conv2d_2 (Conv2D)               (None, 28, 28, 32)   4640        max_pooling2d[0][0]              \n",
            "__________________________________________________________________________________________________\n",
            "conv2d_3 (Conv2D)               (None, 28, 28, 32)   9248        conv2d_2[0][0]                   \n",
            "__________________________________________________________________________________________________\n",
            "max_pooling2d_1 (MaxPooling2D)  (None, 14, 14, 32)   0           conv2d_3[0][0]                   \n",
            "__________________________________________________________________________________________________\n",
            "conv2d_4 (Conv2D)               (None, 14, 14, 64)   18496       max_pooling2d_1[0][0]            \n",
            "__________________________________________________________________________________________________\n",
            "conv2d_5 (Conv2D)               (None, 14, 14, 64)   36928       conv2d_4[0][0]                   \n",
            "__________________________________________________________________________________________________\n",
            "max_pooling2d_2 (MaxPooling2D)  (None, 7, 7, 64)     0           conv2d_5[0][0]                   \n",
            "__________________________________________________________________________________________________\n",
            "conv2d_6 (Conv2D)               (None, 7, 7, 128)    73856       max_pooling2d_2[0][0]            \n",
            "__________________________________________________________________________________________________\n",
            "conv2d_7 (Conv2D)               (None, 7, 7, 128)    147584      conv2d_6[0][0]                   \n",
            "__________________________________________________________________________________________________\n",
            "conv2d_transpose (Conv2DTranspo (None, 14, 14, 64)   32832       conv2d_7[0][0]                   \n",
            "__________________________________________________________________________________________________\n",
            "concatenate (Concatenate)       (None, 14, 14, 128)  0           conv2d_transpose[0][0]           \n",
            "                                                                 conv2d_5[0][0]                   \n",
            "__________________________________________________________________________________________________\n",
            "conv2d_8 (Conv2D)               (None, 14, 14, 64)   73792       concatenate[0][0]                \n",
            "__________________________________________________________________________________________________\n",
            "conv2d_9 (Conv2D)               (None, 14, 14, 64)   36928       conv2d_8[0][0]                   \n",
            "__________________________________________________________________________________________________\n",
            "conv2d_transpose_1 (Conv2DTrans (None, 28, 28, 32)   8224        conv2d_9[0][0]                   \n",
            "__________________________________________________________________________________________________\n",
            "concatenate_1 (Concatenate)     (None, 28, 28, 64)   0           conv2d_transpose_1[0][0]         \n",
            "                                                                 conv2d_3[0][0]                   \n",
            "__________________________________________________________________________________________________\n",
            "conv2d_10 (Conv2D)              (None, 28, 28, 32)   18464       concatenate_1[0][0]              \n",
            "__________________________________________________________________________________________________\n",
            "conv2d_11 (Conv2D)              (None, 28, 28, 32)   9248        conv2d_10[0][0]                  \n",
            "__________________________________________________________________________________________________\n",
            "conv2d_transpose_2 (Conv2DTrans (None, 56, 56, 16)   2064        conv2d_11[0][0]                  \n",
            "__________________________________________________________________________________________________\n",
            "concatenate_2 (Concatenate)     (None, 56, 56, 32)   0           conv2d_transpose_2[0][0]         \n",
            "                                                                 conv2d_1[0][0]                   \n",
            "__________________________________________________________________________________________________\n",
            "conv2d_12 (Conv2D)              (None, 56, 56, 16)   4624        concatenate_2[0][0]              \n",
            "__________________________________________________________________________________________________\n",
            "conv2d_13 (Conv2D)              (None, 56, 56, 11)   1595        conv2d_12[0][0]                  \n",
            "==================================================================================================\n",
            "Total params: 481,003\n",
            "Trainable params: 481,003\n",
            "Non-trainable params: 0\n",
            "__________________________________________________________________________________________________\n"
          ],
          "name": "stdout"
        }
      ]
    },
    {
      "cell_type": "code",
      "metadata": {
        "id": "3fxTlkanwamr"
      },
      "source": [
        "customunet.compile(optimizer='adam', loss=keras.losses.categorical_crossentropy)"
      ],
      "execution_count": 8,
      "outputs": []
    },
    {
      "cell_type": "code",
      "metadata": {
        "colab": {
          "base_uri": "https://localhost:8080/"
        },
        "id": "l949Ku_Jwamr",
        "outputId": "b9fd1c57-0c96-4f74-8f7b-bc452bd70e2f"
      },
      "source": [
        "customunet.fit(train4imagesx,train4imagesy,batch_size=64,epochs=20)"
      ],
      "execution_count": 9,
      "outputs": [
        {
          "output_type": "stream",
          "text": [
            "Epoch 1/20\n",
            "235/235 [==============================] - 37s 31ms/step - loss: 0.9113\n",
            "Epoch 2/20\n",
            "235/235 [==============================] - 7s 29ms/step - loss: 0.2669\n",
            "Epoch 3/20\n",
            "235/235 [==============================] - 7s 29ms/step - loss: 0.0537\n",
            "Epoch 4/20\n",
            "235/235 [==============================] - 7s 29ms/step - loss: 0.0194\n",
            "Epoch 5/20\n",
            "235/235 [==============================] - 7s 29ms/step - loss: 0.0115\n",
            "Epoch 6/20\n",
            "235/235 [==============================] - 7s 29ms/step - loss: 0.0076\n",
            "Epoch 7/20\n",
            "235/235 [==============================] - 7s 29ms/step - loss: 0.0050\n",
            "Epoch 8/20\n",
            "235/235 [==============================] - 7s 29ms/step - loss: 0.0045\n",
            "Epoch 9/20\n",
            "235/235 [==============================] - 7s 29ms/step - loss: 0.0034\n",
            "Epoch 10/20\n",
            "235/235 [==============================] - 7s 29ms/step - loss: 0.0034\n",
            "Epoch 11/20\n",
            "235/235 [==============================] - 7s 29ms/step - loss: 0.0022\n",
            "Epoch 12/20\n",
            "235/235 [==============================] - 7s 29ms/step - loss: 0.0027\n",
            "Epoch 13/20\n",
            "235/235 [==============================] - 7s 29ms/step - loss: 0.0027\n",
            "Epoch 14/20\n",
            "235/235 [==============================] - 7s 29ms/step - loss: 0.0024\n",
            "Epoch 15/20\n",
            "235/235 [==============================] - 7s 29ms/step - loss: 0.0018\n",
            "Epoch 16/20\n",
            "235/235 [==============================] - 7s 29ms/step - loss: 0.0019\n",
            "Epoch 17/20\n",
            "235/235 [==============================] - 7s 29ms/step - loss: 0.0019\n",
            "Epoch 18/20\n",
            "235/235 [==============================] - 7s 29ms/step - loss: 0.0018\n",
            "Epoch 19/20\n",
            "235/235 [==============================] - 7s 29ms/step - loss: 0.0016\n",
            "Epoch 20/20\n",
            "235/235 [==============================] - 7s 29ms/step - loss: 0.0014\n"
          ],
          "name": "stdout"
        },
        {
          "output_type": "execute_result",
          "data": {
            "text/plain": [
              "<tensorflow.python.keras.callbacks.History at 0x7fc7c00d3f90>"
            ]
          },
          "metadata": {
            "tags": []
          },
          "execution_count": 9
        }
      ]
    },
    {
      "cell_type": "code",
      "metadata": {
        "id": "iwMDJkYWwams"
      },
      "source": [
        "predictions=customunet.predict(test4imagesx)"
      ],
      "execution_count": 102,
      "outputs": []
    },
    {
      "cell_type": "code",
      "metadata": {
        "colab": {
          "base_uri": "https://localhost:8080/",
          "height": 283
        },
        "id": "kX_2hc9SWBe4",
        "outputId": "1399f04e-2118-49f8-97a8-a6ac9d43bbd7"
      },
      "source": [
        "plt.imshow(test4imagesx[399],cmap='gray')"
      ],
      "execution_count": 188,
      "outputs": [
        {
          "output_type": "execute_result",
          "data": {
            "text/plain": [
              "<matplotlib.image.AxesImage at 0x7fc6fa01e390>"
            ]
          },
          "metadata": {
            "tags": []
          },
          "execution_count": 188
        },
        {
          "output_type": "display_data",
          "data": {
            "image/png": "[encoded data removed]",
            "text/plain": [
              "<Figure size 432x288 with 1 Axes>"
            ]
          },
          "metadata": {
            "tags": [],
            "needs_background": "light"
          }
        }
      ]
    },
    {
      "cell_type": "code",
      "metadata": {
        "id": "KR0VEaqgwam1"
      },
      "source": [
        "def thresholding(im,thres):\n",
        "    result=np.zeros((56,56))\n",
        "    for i in range(im.shape[0]):\n",
        "        for j in range(im.shape[1]):\n",
        "            if im[i][j]>=thres:\n",
        "                result[i][j]=1\n",
        "    return result"
      ],
      "execution_count": 109,
      "outputs": []
    },
    {
      "cell_type": "code",
      "metadata": {
        "colab": {
          "base_uri": "https://localhost:8080/",
          "height": 283
        },
        "id": "PvPZedNawam3",
        "outputId": "3a8f822c-5b52-4947-cd8a-b58aea8bea5d"
      },
      "source": [
        "plt.imshow(predictions[399][:,:,0],cmap='gray')"
      ],
      "execution_count": 111,
      "outputs": [
        {
          "output_type": "execute_result",
          "data": {
            "text/plain": [
              "<matplotlib.image.AxesImage at 0x7fc77a508410>"
            ]
          },
          "metadata": {
            "tags": []
          },
          "execution_count": 111
        },
        {
          "output_type": "display_data",
          "data": {
            "image/png": "[encoded data removed]",
            "text/plain": [
              "<Figure size 432x288 with 1 Axes>"
            ]
          },
          "metadata": {
            "tags": [],
            "needs_background": "light"
          }
        }
      ]
    },
    {
      "cell_type": "code",
      "metadata": {
        "colab": {
          "base_uri": "https://localhost:8080/",
          "height": 283
        },
        "id": "DNLeE0H6HMiT",
        "outputId": "55a81a12-81fc-4ed0-d074-47f70b07138b"
      },
      "source": [
        "plt.imshow(thresholding(predictions[399][:,:,0],0.985),cmap='gray')"
      ],
      "execution_count": 165,
      "outputs": [
        {
          "output_type": "execute_result",
          "data": {
            "text/plain": [
              "<matplotlib.image.AxesImage at 0x7fc772377590>"
            ]
          },
          "metadata": {
            "tags": []
          },
          "execution_count": 165
        },
        {
          "output_type": "display_data",
          "data": {
            "image/png": "[encoded data removed]",
            "text/plain": [
              "<Figure size 432x288 with 1 Axes>"
            ]
          },
          "metadata": {
            "tags": [],
            "needs_background": "light"
          }
        }
      ]
    },
    {
      "cell_type": "code",
      "metadata": {
        "colab": {
          "base_uri": "https://localhost:8080/",
          "height": 283
        },
        "id": "32qdqjclwam4",
        "outputId": "58b9aa25-1bf6-4b53-9554-a9ce50131350"
      },
      "source": [
        "plt.imshow(predictions[399][:,:,1],cmap='gray')"
      ],
      "execution_count": 166,
      "outputs": [
        {
          "output_type": "execute_result",
          "data": {
            "text/plain": [
              "<matplotlib.image.AxesImage at 0x7fc7722c5d90>"
            ]
          },
          "metadata": {
            "tags": []
          },
          "execution_count": 166
        },
        {
          "output_type": "display_data",
          "data": {
            "image/png": "[encoded data removed]",
            "text/plain": [
              "<Figure size 432x288 with 1 Axes>"
            ]
          },
          "metadata": {
            "tags": [],
            "needs_background": "light"
          }
        }
      ]
    },
    {
      "cell_type": "code",
      "metadata": {
        "colab": {
          "base_uri": "https://localhost:8080/",
          "height": 283
        },
        "id": "JfP4r3UsHVwo",
        "outputId": "6a42838a-dc1c-4966-83ed-3ec41b1226df"
      },
      "source": [
        "plt.imshow(thresholding(predictions[399][:,:,1],0.985),cmap='gray')"
      ],
      "execution_count": 167,
      "outputs": [
        {
          "output_type": "execute_result",
          "data": {
            "text/plain": [
              "<matplotlib.image.AxesImage at 0x7fc7722d1410>"
            ]
          },
          "metadata": {
            "tags": []
          },
          "execution_count": 167
        },
        {
          "output_type": "display_data",
          "data": {
            "image/png": "[encoded data removed]",
            "text/plain": [
              "<Figure size 432x288 with 1 Axes>"
            ]
          },
          "metadata": {
            "tags": [],
            "needs_background": "light"
          }
        }
      ]
    },
    {
      "cell_type": "code",
      "metadata": {
        "colab": {
          "base_uri": "https://localhost:8080/",
          "height": 283
        },
        "id": "PWs8WFAYwam5",
        "outputId": "32d2cf72-7fe7-48de-d289-8131bce65103"
      },
      "source": [
        "plt.imshow((predictions[399][:,:,2]),cmap='gray')"
      ],
      "execution_count": 168,
      "outputs": [
        {
          "output_type": "execute_result",
          "data": {
            "text/plain": [
              "<matplotlib.image.AxesImage at 0x7fc772222490>"
            ]
          },
          "metadata": {
            "tags": []
          },
          "execution_count": 168
        },
        {
          "output_type": "display_data",
          "data": {
            "image/png": "[encoded data removed]",
            "text/plain": [
              "<Figure size 432x288 with 1 Axes>"
            ]
          },
          "metadata": {
            "tags": [],
            "needs_background": "light"
          }
        }
      ]
    },
    {
      "cell_type": "code",
      "metadata": {
        "colab": {
          "base_uri": "https://localhost:8080/",
          "height": 283
        },
        "id": "sUEf6tJZHeW1",
        "outputId": "a8b622b7-bc98-43bb-8477-4e675a74b38a"
      },
      "source": [
        "plt.imshow(thresholding(predictions[399][:,:,2],0.985),cmap='gray')"
      ],
      "execution_count": 169,
      "outputs": [
        {
          "output_type": "execute_result",
          "data": {
            "text/plain": [
              "<matplotlib.image.AxesImage at 0x7fc7721900d0>"
            ]
          },
          "metadata": {
            "tags": []
          },
          "execution_count": 169
        },
        {
          "output_type": "display_data",
          "data": {
            "image/png": "[encoded data removed]",
            "text/plain": [
              "<Figure size 432x288 with 1 Axes>"
            ]
          },
          "metadata": {
            "tags": [],
            "needs_background": "light"
          }
        }
      ]
    },
    {
      "cell_type": "code",
      "metadata": {
        "colab": {
          "base_uri": "https://localhost:8080/",
          "height": 283
        },
        "id": "Le08ZQx7wam5",
        "outputId": "93ae5311-a8db-44c8-cfd6-9a6a52903a52"
      },
      "source": [
        "plt.imshow(predictions[399][:,:,3],cmap='gray')"
      ],
      "execution_count": 170,
      "outputs": [
        {
          "output_type": "execute_result",
          "data": {
            "text/plain": [
              "<matplotlib.image.AxesImage at 0x7fc7721fd950>"
            ]
          },
          "metadata": {
            "tags": []
          },
          "execution_count": 170
        },
        {
          "output_type": "display_data",
          "data": {
            "image/png": "[encoded data removed]",
            "text/plain": [
              "<Figure size 432x288 with 1 Axes>"
            ]
          },
          "metadata": {
            "tags": [],
            "needs_background": "light"
          }
        }
      ]
    },
    {
      "cell_type": "code",
      "metadata": {
        "colab": {
          "base_uri": "https://localhost:8080/",
          "height": 283
        },
        "id": "PzybMFhwH9Kj",
        "outputId": "87cbc476-0601-4493-94b9-2395855d5c3f"
      },
      "source": [
        "plt.imshow(thresholding(predictions[399][:,:,3],0.985),cmap='gray')"
      ],
      "execution_count": 171,
      "outputs": [
        {
          "output_type": "execute_result",
          "data": {
            "text/plain": [
              "<matplotlib.image.AxesImage at 0x7fc772111bd0>"
            ]
          },
          "metadata": {
            "tags": []
          },
          "execution_count": 171
        },
        {
          "output_type": "display_data",
          "data": {
            "image/png": "[encoded data removed]",
            "text/plain": [
              "<Figure size 432x288 with 1 Axes>"
            ]
          },
          "metadata": {
            "tags": [],
            "needs_background": "light"
          }
        }
      ]
    },
    {
      "cell_type": "code",
      "metadata": {
        "colab": {
          "base_uri": "https://localhost:8080/",
          "height": 283
        },
        "id": "JEkbbDU3IATo",
        "outputId": "90a999b4-e7a6-40a0-df98-a4435ba1941c"
      },
      "source": [
        "plt.imshow(predictions[399][:,:,4],cmap='gray')"
      ],
      "execution_count": 172,
      "outputs": [
        {
          "output_type": "execute_result",
          "data": {
            "text/plain": [
              "<matplotlib.image.AxesImage at 0x7fc77a5a59d0>"
            ]
          },
          "metadata": {
            "tags": []
          },
          "execution_count": 172
        },
        {
          "output_type": "display_data",
          "data": {
            "image/png": "[encoded data removed]",
            "text/plain": [
              "<Figure size 432x288 with 1 Axes>"
            ]
          },
          "metadata": {
            "tags": [],
            "needs_background": "light"
          }
        }
      ]
    },
    {
      "cell_type": "code",
      "metadata": {
        "colab": {
          "base_uri": "https://localhost:8080/",
          "height": 283
        },
        "id": "Dew_lB_Rwam6",
        "outputId": "4bdfe49f-5e05-4b4d-c221-59039a1398c6"
      },
      "source": [
        "plt.imshow(thresholding(predictions[399][:,:,4],0.985),cmap='gray')"
      ],
      "execution_count": 173,
      "outputs": [
        {
          "output_type": "execute_result",
          "data": {
            "text/plain": [
              "<matplotlib.image.AxesImage at 0x7fc77a3d2650>"
            ]
          },
          "metadata": {
            "tags": []
          },
          "execution_count": 173
        },
        {
          "output_type": "display_data",
          "data": {
            "image/png": "[encoded data removed]",
            "text/plain": [
              "<Figure size 432x288 with 1 Axes>"
            ]
          },
          "metadata": {
            "tags": [],
            "needs_background": "light"
          }
        }
      ]
    },
    {
      "cell_type": "code",
      "metadata": {
        "colab": {
          "base_uri": "https://localhost:8080/",
          "height": 283
        },
        "id": "kjjgvYuaIIZr",
        "outputId": "e02f3b36-2cea-4f23-cf77-99b2a7043771"
      },
      "source": [
        "plt.imshow(predictions[399][:,:,5],cmap='gray')"
      ],
      "execution_count": 174,
      "outputs": [
        {
          "output_type": "execute_result",
          "data": {
            "text/plain": [
              "<matplotlib.image.AxesImage at 0x7fc77a3b3610>"
            ]
          },
          "metadata": {
            "tags": []
          },
          "execution_count": 174
        },
        {
          "output_type": "display_data",
          "data": {
            "image/png": "[encoded data removed]",
            "text/plain": [
              "<Figure size 432x288 with 1 Axes>"
            ]
          },
          "metadata": {
            "tags": [],
            "needs_background": "light"
          }
        }
      ]
    },
    {
      "cell_type": "code",
      "metadata": {
        "colab": {
          "base_uri": "https://localhost:8080/",
          "height": 283
        },
        "id": "Kaft-5-Hwam6",
        "outputId": "b9dcc160-1174-4efc-a8b9-77feea691102"
      },
      "source": [
        "plt.imshow(thresholding(predictions[399][:,:,5],0.985),cmap='gray')"
      ],
      "execution_count": 175,
      "outputs": [
        {
          "output_type": "execute_result",
          "data": {
            "text/plain": [
              "<matplotlib.image.AxesImage at 0x7fc76e70a5d0>"
            ]
          },
          "metadata": {
            "tags": []
          },
          "execution_count": 175
        },
        {
          "output_type": "display_data",
          "data": {
            "image/png": "[encoded data removed]",
            "text/plain": [
              "<Figure size 432x288 with 1 Axes>"
            ]
          },
          "metadata": {
            "tags": [],
            "needs_background": "light"
          }
        }
      ]
    },
    {
      "cell_type": "code",
      "metadata": {
        "colab": {
          "base_uri": "https://localhost:8080/",
          "height": 283
        },
        "id": "oCwgDMfnIPVu",
        "outputId": "e19b7902-b6d6-4112-d6be-99b26617f76a"
      },
      "source": [
        "plt.imshow(predictions[399][:,:,6],cmap='gray')"
      ],
      "execution_count": 176,
      "outputs": [
        {
          "output_type": "execute_result",
          "data": {
            "text/plain": [
              "<matplotlib.image.AxesImage at 0x7fc76e777b10>"
            ]
          },
          "metadata": {
            "tags": []
          },
          "execution_count": 176
        },
        {
          "output_type": "display_data",
          "data": {
            "image/png": "[encoded data removed]",
            "text/plain": [
              "<Figure size 432x288 with 1 Axes>"
            ]
          },
          "metadata": {
            "tags": [],
            "needs_background": "light"
          }
        }
      ]
    },
    {
      "cell_type": "code",
      "metadata": {
        "colab": {
          "base_uri": "https://localhost:8080/",
          "height": 283
        },
        "id": "-mjuIlDbwam7",
        "outputId": "5d501b56-ae3c-4e59-88fd-11e2b934738b"
      },
      "source": [
        "plt.imshow(thresholding(predictions[399][:,:,6],0.985),cmap='gray')"
      ],
      "execution_count": 177,
      "outputs": [
        {
          "output_type": "execute_result",
          "data": {
            "text/plain": [
              "<matplotlib.image.AxesImage at 0x7fc76e641f50>"
            ]
          },
          "metadata": {
            "tags": []
          },
          "execution_count": 177
        },
        {
          "output_type": "display_data",
          "data": {
            "image/png": "[encoded data removed]",
            "text/plain": [
              "<Figure size 432x288 with 1 Axes>"
            ]
          },
          "metadata": {
            "tags": [],
            "needs_background": "light"
          }
        }
      ]
    },
    {
      "cell_type": "code",
      "metadata": {
        "colab": {
          "base_uri": "https://localhost:8080/",
          "height": 283
        },
        "id": "0X_0iTUaIVfq",
        "outputId": "3c6e124d-2837-4a91-8b6d-2e5e34961177"
      },
      "source": [
        "plt.imshow(predictions[399][:,:,7],cmap='gray')"
      ],
      "execution_count": 178,
      "outputs": [
        {
          "output_type": "execute_result",
          "data": {
            "text/plain": [
              "<matplotlib.image.AxesImage at 0x7fc76e62d6d0>"
            ]
          },
          "metadata": {
            "tags": []
          },
          "execution_count": 178
        },
        {
          "output_type": "display_data",
          "data": {
            "image/png": "[encoded data removed]",
            "text/plain": [
              "<Figure size 432x288 with 1 Axes>"
            ]
          },
          "metadata": {
            "tags": [],
            "needs_background": "light"
          }
        }
      ]
    },
    {
      "cell_type": "code",
      "metadata": {
        "colab": {
          "base_uri": "https://localhost:8080/",
          "height": 283
        },
        "id": "gxPoNUhOwam7",
        "outputId": "327266e6-43d6-4175-aafb-2ede08c1ca9f"
      },
      "source": [
        "plt.imshow(thresholding(predictions[399][:,:,7],0.985),cmap='gray')"
      ],
      "execution_count": 179,
      "outputs": [
        {
          "output_type": "execute_result",
          "data": {
            "text/plain": [
              "<matplotlib.image.AxesImage at 0x7fc76e5bb190>"
            ]
          },
          "metadata": {
            "tags": []
          },
          "execution_count": 179
        },
        {
          "output_type": "display_data",
          "data": {
            "image/png": "[encoded data removed]",
            "text/plain": [
              "<Figure size 432x288 with 1 Axes>"
            ]
          },
          "metadata": {
            "tags": [],
            "needs_background": "light"
          }
        }
      ]
    },
    {
      "cell_type": "code",
      "metadata": {
        "colab": {
          "base_uri": "https://localhost:8080/",
          "height": 283
        },
        "id": "QYkm0R8yIfvy",
        "outputId": "27186ded-ccb3-470b-de93-654df8e28002"
      },
      "source": [
        "plt.imshow(predictions[399][:,:,8],cmap='gray')"
      ],
      "execution_count": 180,
      "outputs": [
        {
          "output_type": "execute_result",
          "data": {
            "text/plain": [
              "<matplotlib.image.AxesImage at 0x7fc76e620f50>"
            ]
          },
          "metadata": {
            "tags": []
          },
          "execution_count": 180
        },
        {
          "output_type": "display_data",
          "data": {
            "image/png": "[encoded data removed]",
            "text/plain": [
              "<Figure size 432x288 with 1 Axes>"
            ]
          },
          "metadata": {
            "tags": [],
            "needs_background": "light"
          }
        }
      ]
    },
    {
      "cell_type": "code",
      "metadata": {
        "colab": {
          "base_uri": "https://localhost:8080/",
          "height": 283
        },
        "id": "sWpWLG9ywam8",
        "outputId": "74f26f4c-f9cd-4d87-a800-afab2135263b"
      },
      "source": [
        "plt.imshow(thresholding(predictions[399][:,:,8],0.985),cmap='gray')"
      ],
      "execution_count": 181,
      "outputs": [
        {
          "output_type": "execute_result",
          "data": {
            "text/plain": [
              "<matplotlib.image.AxesImage at 0x7fc76e4d5f90>"
            ]
          },
          "metadata": {
            "tags": []
          },
          "execution_count": 181
        },
        {
          "output_type": "display_data",
          "data": {
            "image/png": "[encoded data removed]",
            "text/plain": [
              "<Figure size 432x288 with 1 Axes>"
            ]
          },
          "metadata": {
            "tags": [],
            "needs_background": "light"
          }
        }
      ]
    },
    {
      "cell_type": "code",
      "metadata": {
        "colab": {
          "base_uri": "https://localhost:8080/",
          "height": 283
        },
        "id": "UmdRMqtaIq-U",
        "outputId": "0249e5f6-444d-44f7-d933-6f85217ca587"
      },
      "source": [
        "plt.imshow(predictions[399][:,:,9],cmap='gray')"
      ],
      "execution_count": 182,
      "outputs": [
        {
          "output_type": "execute_result",
          "data": {
            "text/plain": [
              "<matplotlib.image.AxesImage at 0x7fc76e4d0e90>"
            ]
          },
          "metadata": {
            "tags": []
          },
          "execution_count": 182
        },
        {
          "output_type": "display_data",
          "data": {
            "image/png": "[encoded data removed]",
            "text/plain": [
              "<Figure size 432x288 with 1 Axes>"
            ]
          },
          "metadata": {
            "tags": [],
            "needs_background": "light"
          }
        }
      ]
    },
    {
      "cell_type": "code",
      "metadata": {
        "colab": {
          "base_uri": "https://localhost:8080/",
          "height": 283
        },
        "id": "oIrJ32l3wam8",
        "outputId": "9dd269bc-7d3c-422d-a5de-a24c4e2929a8"
      },
      "source": [
        "plt.imshow(thresholding(predictions[399][:,:,9],0.985),cmap='gray')"
      ],
      "execution_count": 183,
      "outputs": [
        {
          "output_type": "execute_result",
          "data": {
            "text/plain": [
              "<matplotlib.image.AxesImage at 0x7fc76e4147d0>"
            ]
          },
          "metadata": {
            "tags": []
          },
          "execution_count": 183
        },
        {
          "output_type": "display_data",
          "data": {
            "image/png": "[encoded data removed]",
            "text/plain": [
              "<Figure size 432x288 with 1 Axes>"
            ]
          },
          "metadata": {
            "tags": [],
            "needs_background": "light"
          }
        }
      ]
    },
    {
      "cell_type": "code",
      "metadata": {
        "colab": {
          "base_uri": "https://localhost:8080/",
          "height": 283
        },
        "id": "HnE4aGYAIz9L",
        "outputId": "9055cb90-27bf-4685-adba-dc149a213914"
      },
      "source": [
        "plt.imshow(predictions[399][:,:,10],cmap='gray')"
      ],
      "execution_count": 184,
      "outputs": [
        {
          "output_type": "execute_result",
          "data": {
            "text/plain": [
              "<matplotlib.image.AxesImage at 0x7fc76e38e1d0>"
            ]
          },
          "metadata": {
            "tags": []
          },
          "execution_count": 184
        },
        {
          "output_type": "display_data",
          "data": {
            "image/png": "[encoded data removed]",
            "text/plain": [
              "<Figure size 432x288 with 1 Axes>"
            ]
          },
          "metadata": {
            "tags": [],
            "needs_background": "light"
          }
        }
      ]
    },
    {
      "cell_type": "code",
      "metadata": {
        "colab": {
          "base_uri": "https://localhost:8080/",
          "height": 283
        },
        "id": "QDYskvnIwam9",
        "outputId": "2d29d6a8-bb9e-4f40-cc65-90d318c2fe58"
      },
      "source": [
        "plt.imshow(thresholding(predictions[399][:,:,10],0.985),cmap='gray')"
      ],
      "execution_count": 185,
      "outputs": [
        {
          "output_type": "execute_result",
          "data": {
            "text/plain": [
              "<matplotlib.image.AxesImage at 0x7fc76e370290>"
            ]
          },
          "metadata": {
            "tags": []
          },
          "execution_count": 185
        },
        {
          "output_type": "display_data",
          "data": {
            "image/png": "[encoded data removed]",
            "text/plain": [
              "<Figure size 432x288 with 1 Axes>"
            ]
          },
          "metadata": {
            "tags": [],
            "needs_background": "light"
          }
        }
      ]
    },
    {
      "cell_type": "code",
      "metadata": {
        "id": "S3Bi4verwam_"
      },
      "source": [
        "def jaccardscore(map1,map2):\n",
        "    intersection=0\n",
        "    class1=0\n",
        "    class2=0\n",
        "    for i in range(56):\n",
        "        for j in range(56):\n",
        "            if map1[i][j]==1:\n",
        "                class1=class1+1\n",
        "            if map2[i][j]==1:\n",
        "                class2=class2+1\n",
        "            if map1[i][j]==1 and map2[i][j]==1:\n",
        "                intersection=intersection+1\n",
        "    return (intersection+0.0001)/(class1+class2-intersection+0.0001)\n",
        "            "
      ],
      "execution_count": 133,
      "outputs": []
    },
    {
      "cell_type": "code",
      "metadata": {
        "colab": {
          "base_uri": "https://localhost:8080/"
        },
        "id": "pwUJlD7nwanA",
        "outputId": "25425d1a-20d8-4c5b-ee37-fe372a206cd4"
      },
      "source": [
        "jaccardscore(test4imagesy[399][:,:,7],thresholding(predictions[399][:,:,7],0.985))"
      ],
      "execution_count": 186,
      "outputs": [
        {
          "output_type": "execute_result",
          "data": {
            "text/plain": [
              "0.9361702399275574"
            ]
          },
          "metadata": {
            "tags": []
          },
          "execution_count": 186
        }
      ]
    },
    {
      "cell_type": "code",
      "metadata": {
        "colab": {
          "base_uri": "https://localhost:8080/"
        },
        "id": "opwsJHwPwanB",
        "outputId": "dd008b94-77c6-4287-8659-437f47ae685b"
      },
      "source": [
        "test4imagesx.shape"
      ],
      "execution_count": 136,
      "outputs": [
        {
          "output_type": "execute_result",
          "data": {
            "text/plain": [
              "(1000, 56, 56)"
            ]
          },
          "metadata": {
            "tags": []
          },
          "execution_count": 136
        }
      ]
    },
    {
      "cell_type": "code",
      "metadata": {
        "id": "sddjaV1LwanC"
      },
      "source": [
        "avgofall=0\n",
        "for j in range(1000):\n",
        "    avg=0\n",
        "    for i in range(11):\n",
        "        avg=avg+jaccardscore(test4imagesy[j][:,:,i],thresholding(predictions[j][:,:,i],0.985))\n",
        "    avg=avg/11\n",
        "    avgofall=avgofall+avg\n",
        "avgofall=avgofall/1000"
      ],
      "execution_count": 163,
      "outputs": []
    },
    {
      "cell_type": "code",
      "metadata": {
        "colab": {
          "base_uri": "https://localhost:8080/"
        },
        "id": "f7yTi-eYwanE",
        "outputId": "33ae8741-c459-409c-f650-b390978507c6"
      },
      "source": [
        "avgofall"
      ],
      "execution_count": 164,
      "outputs": [
        {
          "output_type": "execute_result",
          "data": {
            "text/plain": [
              "0.9204527383628228"
            ]
          },
          "metadata": {
            "tags": []
          },
          "execution_count": 164
        }
      ]
    },
    {
      "cell_type": "code",
      "metadata": {
        "id": "67WJuSH0wanF"
      },
      "source": [
        "# from keras.models import load_model\n",
        "\n",
        "# customunet.save('foregroundextractorQ4usingsoftmax.h5')    "
      ],
      "execution_count": 36,
      "outputs": []
    },
    {
      "cell_type": "code",
      "metadata": {
        "id": "ZUBV_sSewanG"
      },
      "source": [
        "# from keras.models import load_model\n",
        "\n",
        "# customunet.save('foregroundextractorQ4final.h5')    "
      ],
      "execution_count": 37,
      "outputs": []
    },
    {
      "cell_type": "code",
      "metadata": {
        "id": "n_maYqgnwanH"
      },
      "source": [
        "customunet = keras.models.load_model('drive/MyDrive/foregroundextractorQ4final.h5')\n",
        "0.9204527383628228\n"
      ],
      "execution_count": 101,
      "outputs": []
    }
  ]
}